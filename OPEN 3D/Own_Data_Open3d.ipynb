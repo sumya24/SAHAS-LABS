{
 "cells": [
  {
   "cell_type": "code",
   "execution_count": 1,
   "id": "9d6091c7",
   "metadata": {},
   "outputs": [
    {
     "name": "stdout",
     "output_type": "stream",
     "text": [
      "Jupyter environment detected. Enabling Open3D WebVisualizer.\n",
      "[Open3D INFO] WebRTC GUI backend enabled.\n",
      "[Open3D INFO] WebRTCWindowSystem: HTTP handshake server disabled.\n",
      "0.17.0\n"
     ]
    }
   ],
   "source": [
    "import open3d as o3d\n",
    "print(o3d.__version__)"
   ]
  },
  {
   "cell_type": "markdown",
   "id": "40e73fcb",
   "metadata": {},
   "source": [
    "## Without Downsampling With Path "
   ]
  },
  {
   "cell_type": "code",
   "execution_count": 2,
   "id": "b02d299d",
   "metadata": {},
   "outputs": [
    {
     "name": "stdout",
     "output_type": "stream",
     "text": [
      "PointCloud with 8171 points.\n",
      "[[-0.036872    0.127727    0.00440925]\n",
      " [-0.0453607   0.128854    0.00114541]\n",
      " [-0.0690069   0.151612    0.0366018 ]\n",
      " ...\n",
      " [-0.0643695   0.149877   -0.0298747 ]\n",
      " [-0.0528961   0.143026   -0.00045591]\n",
      " [-0.0318636   0.155275   -0.00893878]]\n"
     ]
    }
   ],
   "source": [
    "# Local dataset ==> Bunny dataset\n",
    "\n",
    "import open3d as o3d\n",
    "import numpy as np\n",
    "\n",
    "# Load the point cloud from a PLY file\n",
    "pcd = o3d.io.read_point_cloud(\"C:/Users/sumit/Downloads/bunny/bunny/reconstruction/bun_zipper_res2.ply\")\n",
    "\n",
    "# Print the point cloud and its points as a NumPy array\n",
    "print(pcd)\n",
    "print(np.asarray(pcd.points))\n",
    "\n",
    "# Set better camera parameters to ensure the point cloud is visible\n",
    "vis = o3d.visualization.Visualizer()\n",
    "vis.create_window()\n",
    "vis.add_geometry(pcd)\n",
    "\n",
    "# Adjust camera parameters manually to ensure a good view of the point cloud\n",
    "view_control = vis.get_view_control()\n",
    "view_control.set_zoom(0.5)  # Zoom out a bit if the cloud is small\n",
    "view_control.set_front([1.0, -1.0, 0.0])  # Front direction\n",
    "view_control.set_lookat([0.0, 0.0, 0.0])  # Look at the center of the point cloud\n",
    "view_control.set_up([0.0, 0.0, 1.0])  # Up direction\n",
    "\n",
    "# Run the visualization loop\n",
    "vis.run()\n",
    "vis.destroy_window()"
   ]
  },
  {
   "cell_type": "markdown",
   "id": "af61b874",
   "metadata": {},
   "source": [
    "## Downsampling"
   ]
  },
  {
   "cell_type": "code",
   "execution_count": 3,
   "id": "b88dd9aa",
   "metadata": {},
   "outputs": [
    {
     "name": "stdout",
     "output_type": "stream",
     "text": [
      "PointCloud with 13872772 points.\n",
      "[[-1.7607e+00 -2.9590e-01 -8.8833e-01]\n",
      " [-1.7609e+00 -2.9590e-01 -8.8770e-01]\n",
      " [-1.7607e+00 -2.9525e-01 -8.8770e-01]\n",
      " ...\n",
      " [ 9.0820e-02  5.1123e+00 -6.8202e+00]\n",
      " [-2.9297e-03  5.2178e+00 -6.8269e+00]\n",
      " [ 1.3184e-01  5.9160e+00 -7.0400e+00]]\n",
      "Downsampled PointCloud\n",
      "PointCloud with 44045 points.\n",
      "[[-4.10837329e-01 -7.47546925e-01  2.50593137e+00]\n",
      " [ 4.08798794e-01  1.01183539e+00  2.18118511e+00]\n",
      " [ 7.94457653e-01  3.96696626e+00 -5.76617408e+00]\n",
      " ...\n",
      " [-7.23787200e-03  5.26033396e+00 -6.90834491e+00]\n",
      " [-4.19469222e-03  5.22365556e+00 -6.83718889e+00]\n",
      " [ 7.00878118e-03  5.23647647e+00 -6.84539412e+00]]\n"
     ]
    }
   ],
   "source": [
    "import open3d as o3d\n",
    "import numpy as np\n",
    "\n",
    "# Load the point cloud from a PLY file\n",
    "pcd = o3d.io.read_point_cloud(\"C:/Users/sumit/Downloads/ours_lobby/lobby.ply\")\n",
    "\n",
    "# Print the point cloud and its points as a NumPy array\n",
    "print(pcd)\n",
    "print(np.asarray(pcd.points))\n",
    "\n",
    "# Downsample the point cloud with a voxel size of 0.05 (you can change this value)\n",
    "downpcd = pcd.voxel_down_sample(voxel_size=0.1)\n",
    "\n",
    "# Print the downsampled point cloud and its points\n",
    "print(\"Downsampled PointCloud\")\n",
    "print(downpcd)\n",
    "print(np.asarray(downpcd.points))\n",
    "\n",
    "# Set better camera parameters to ensure the point cloud is visible\n",
    "vis = o3d.visualization.Visualizer()\n",
    "vis.create_window()\n",
    "vis.add_geometry(downpcd)  # Use the downsampled point cloud instead of the original one\n",
    "\n",
    "# Adjust camera parameters manually to ensure a good view of the point cloud\n",
    "view_control = vis.get_view_control()\n",
    "view_control.set_zoom(0.5)  # Zoom out a bit if the cloud is small\n",
    "view_control.set_front([1.0, -1.0, 0.0])  # Front direction\n",
    "view_control.set_lookat([0.0, 0.0, 0.0])  # Look at the center of the point cloud\n",
    "view_control.set_up([0.0, 0.0, 1.0])  # Up direction\n",
    "\n",
    "# Run the visualization loop\n",
    "vis.run()\n",
    "vis.destroy_window()"
   ]
  },
  {
   "cell_type": "code",
   "execution_count": 4,
   "id": "0a08aa46",
   "metadata": {},
   "outputs": [
    {
     "name": "stdout",
     "output_type": "stream",
     "text": [
      "Recompute the normal of the downsampled point cloud\n"
     ]
    }
   ],
   "source": [
    "print(\"Recompute the normal of the downsampled point cloud\")\n",
    "downpcd.estimate_normals(\n",
    "    search_param=o3d.geometry.KDTreeSearchParamHybrid(radius=0.1, max_nn=30))\n",
    "o3d.visualization.draw_geometries([downpcd],\n",
    "                                  zoom=0.3412,\n",
    "                                  front=[0.4257, -0.2125, -0.8795],\n",
    "                                  lookat=[2.6172, 2.0475, 1.532],\n",
    "                                  up=[-0.0694, -0.9768, 0.2024],\n",
    "                                  point_show_normal=True)"
   ]
  },
  {
   "cell_type": "code",
   "execution_count": null,
   "id": "e0488442",
   "metadata": {},
   "outputs": [],
   "source": []
  },
  {
   "cell_type": "code",
   "execution_count": null,
   "id": "2332b8ff",
   "metadata": {},
   "outputs": [],
   "source": []
  },
  {
   "cell_type": "code",
   "execution_count": null,
   "id": "0a046eb1",
   "metadata": {},
   "outputs": [],
   "source": []
  },
  {
   "cell_type": "code",
   "execution_count": null,
   "id": "bfdfe217",
   "metadata": {},
   "outputs": [],
   "source": []
  },
  {
   "cell_type": "markdown",
   "id": "9912eadc",
   "metadata": {},
   "source": [
    "## Thinter Code ==> Start to Normalize Estimate Vectoer"
   ]
  },
  {
   "cell_type": "code",
   "execution_count": 5,
   "id": "4d6cb197",
   "metadata": {},
   "outputs": [
    {
     "name": "stdout",
     "output_type": "stream",
     "text": [
      "PointCloud with 137070 points.\n",
      "[[1.48169196 1.47363091 0.40797529]\n",
      " [1.48068249 1.47503877 0.4229607 ]\n",
      " [1.48884368 1.49680889 0.43765184]\n",
      " ...\n",
      " [4.89285278 2.59598804 0.11020485]\n",
      " [4.70525026 2.66881609 0.09415986]\n",
      " [4.7298646  2.67439437 0.09585464]]\n",
      "Downsampled PointCloud\n",
      "PointCloud with 5821 points.\n",
      "[[1.45172368 1.4681056  1.34715625]\n",
      " [2.66917062 2.26551142 0.68703064]\n",
      " [2.64643123 2.26801932 0.63902875]\n",
      " ...\n",
      " [5.01786831 2.57519335 0.09515126]\n",
      " [4.61031908 2.76111509 0.08790307]\n",
      " [4.77201831 3.05261537 0.05501766]]\n",
      "Recompute the normal of the downsampled point cloud\n"
     ]
    }
   ],
   "source": [
    "import open3d as o3d\n",
    "import numpy as np\n",
    "import tkinter as tk\n",
    "from tkinter import filedialog\n",
    "\n",
    "# 1. Open a file dialog to choose the PLY file\n",
    "root = tk.Tk()\n",
    "root.withdraw()  # Hide the root window (we just want the file dialog)\n",
    "file_path = filedialog.askopenfilename(title=\"Select a Point Cloud file\", filetypes=[(\"PLY Files\", \"*.ply\")])\n",
    "\n",
    "# Check if a file was selected\n",
    "if not file_path:\n",
    "    print(\"No file selected.\")\n",
    "else:\n",
    "    # 2. Load the point cloud from the selected PLY file\n",
    "    pcd = o3d.io.read_point_cloud(file_path)\n",
    "\n",
    "    # Print the point cloud and its points as a NumPy array\n",
    "    print(pcd)\n",
    "    print(np.asarray(pcd.points))\n",
    "\n",
    "    # 3. Downsample the point cloud with a voxel size of 0.1 (you can change this value)\n",
    "    downpcd = pcd.voxel_down_sample(voxel_size=0.1)\n",
    "\n",
    "    # Print the downsampled point cloud and its points\n",
    "    print(\"Downsampled PointCloud\")\n",
    "    print(downpcd)\n",
    "    print(np.asarray(downpcd.points))\n",
    "\n",
    "    # 4. Set better camera parameters to ensure the point cloud is visible\n",
    "    vis = o3d.visualization.Visualizer()\n",
    "    vis.create_window()\n",
    "    vis.add_geometry(downpcd)  # Use the downsampled point cloud instead of the original one\n",
    "\n",
    "    # Adjust camera parameters manually to ensure a good view of the point cloud\n",
    "    view_control = vis.get_view_control()\n",
    "    view_control.set_zoom(0.5)  # Zoom out a bit if the cloud is small\n",
    "    view_control.set_front([1.0, -1.0, 0.0])  # Front direction\n",
    "    view_control.set_lookat([0.0, 0.0, 0.0])  # Look at the center of the point cloud\n",
    "    view_control.set_up([0.0, 0.0, 1.0])  # Up direction\n",
    "\n",
    "    # 5. Run the visualization loop\n",
    "    vis.run()\n",
    "    vis.destroy_window()\n",
    "\n",
    "    # 6. Recompute the normal of the downsampled point cloud\n",
    "    print(\"Recompute the normal of the downsampled point cloud\")\n",
    "    downpcd.estimate_normals(\n",
    "        search_param=o3d.geometry.KDTreeSearchParamHybrid(radius=0.1, max_nn=30))\n",
    "\n",
    "    # 7. Visualize the point cloud with normals\n",
    "    o3d.visualization.draw_geometries([downpcd],\n",
    "                                      zoom=0.3412,\n",
    "                                      front=[0.4257, -0.2125, -0.8795],\n",
    "                                      lookat=[2.6172, 2.0475, 1.532],\n",
    "                                      up=[-0.0694, -0.9768, 0.2024],\n",
    "                                      point_show_normal=True)\n"
   ]
  },
  {
   "cell_type": "code",
   "execution_count": null,
   "id": "519fafb6",
   "metadata": {},
   "outputs": [],
   "source": []
  },
  {
   "cell_type": "code",
   "execution_count": null,
   "id": "a8accd77",
   "metadata": {},
   "outputs": [],
   "source": []
  }
 ],
 "metadata": {
  "kernelspec": {
   "display_name": "Python 3 (ipykernel)",
   "language": "python",
   "name": "python3"
  },
  "language_info": {
   "codemirror_mode": {
    "name": "ipython",
    "version": 3
   },
   "file_extension": ".py",
   "mimetype": "text/x-python",
   "name": "python",
   "nbconvert_exporter": "python",
   "pygments_lexer": "ipython3",
   "version": "3.7.1"
  }
 },
 "nbformat": 4,
 "nbformat_minor": 5
}
