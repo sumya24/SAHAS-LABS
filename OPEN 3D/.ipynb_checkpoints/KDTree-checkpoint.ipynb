{
 "cells": [
  {
   "cell_type": "code",
   "execution_count": 1,
   "id": "34b9bacb",
   "metadata": {},
   "outputs": [
    {
     "name": "stdout",
     "output_type": "stream",
     "text": [
      "Jupyter environment detected. Enabling Open3D WebVisualizer.\n",
      "[Open3D INFO] WebRTC GUI backend enabled.\n",
      "[Open3D INFO] WebRTCWindowSystem: HTTP handshake server disabled.\n",
      "0.17.0\n"
     ]
    }
   ],
   "source": [
    "import open3d as o3d\n",
    "print(o3d.__version__)"
   ]
  },
  {
   "cell_type": "markdown",
   "id": "d4bc4ea0",
   "metadata": {},
   "source": [
    "## Creating a KDTree"
   ]
  },
  {
   "cell_type": "code",
   "execution_count": 75,
   "id": "2961f192",
   "metadata": {},
   "outputs": [
    {
     "name": "stdout",
     "output_type": "stream",
     "text": [
      "Testing kdtree in Open3D...\n",
      "Load a point cloud and paint it gray.\n"
     ]
    }
   ],
   "source": [
    "print(\"Testing kdtree in Open3D...\")\n",
    "print(\"Load a point cloud and paint it gray.\")\n",
    "\n",
    "sample_pcd_data = o3d.data.PCDPointCloud()\n",
    "pcd = o3d.io.read_point_cloud(sample_pcd_data.path)\n",
    "pcd.paint_uniform_color([0.5, 0.5, 0.5])\n",
    "pcd_tree = o3d.geometry.KDTreeFlann(pcd)"
   ]
  },
  {
   "cell_type": "code",
   "execution_count": 11,
   "id": "f670725f",
   "metadata": {},
   "outputs": [
    {
     "data": {
      "text/plain": [
       "PointCloud with 113662 points."
      ]
     },
     "execution_count": 11,
     "metadata": {},
     "output_type": "execute_result"
    }
   ],
   "source": [
    "pcd"
   ]
  },
  {
   "cell_type": "markdown",
   "id": "ea8d6968",
   "metadata": {},
   "source": [
    "## Find neighboring points"
   ]
  },
  {
   "cell_type": "code",
   "execution_count": 76,
   "id": "08e56854",
   "metadata": {},
   "outputs": [
    {
     "name": "stdout",
     "output_type": "stream",
     "text": [
      "Paint the 1501st point red.\n"
     ]
    }
   ],
   "source": [
    "print(\"Paint the 1501st point red.\")\n",
    "pcd.colors[1500] = [1, 0, 0]"
   ]
  },
  {
   "cell_type": "markdown",
   "id": "0edd1f11",
   "metadata": {},
   "source": [
    "## Find neighboring points ==> 1 KNN_Vetor 2. Radius Vector"
   ]
  },
  {
   "cell_type": "markdown",
   "id": "7b941441",
   "metadata": {},
   "source": [
    "## Using search_knn_vector_3d"
   ]
  },
  {
   "cell_type": "code",
   "execution_count": 77,
   "id": "355ab02d",
   "metadata": {
    "scrolled": true
   },
   "outputs": [
    {
     "name": "stdout",
     "output_type": "stream",
     "text": [
      "Find its 200 nearest neighbors, and paint them blue.\n"
     ]
    }
   ],
   "source": [
    "import numpy as np\n",
    "print(\"Find its 200 nearest neighbors, and paint them blue.\")\n",
    "[k, idx, _] = pcd_tree.search_knn_vector_3d(pcd.points[1500], 200)\n",
    "np.asarray(pcd.colors)[idx[1:], :] = [0, 0, 1]"
   ]
  },
  {
   "cell_type": "code",
   "execution_count": 78,
   "id": "98e23daa",
   "metadata": {},
   "outputs": [
    {
     "name": "stdout",
     "output_type": "stream",
     "text": [
      "Visualize the point cloud.\n"
     ]
    }
   ],
   "source": [
    "print(\"Visualize the point cloud.\")\n",
    "o3d.visualization.draw_geometries([pcd])"
   ]
  },
  {
   "cell_type": "code",
   "execution_count": 82,
   "id": "72c4596b",
   "metadata": {},
   "outputs": [
    {
     "data": {
      "text/plain": [
       "200"
      ]
     },
     "execution_count": 82,
     "metadata": {},
     "output_type": "execute_result"
    }
   ],
   "source": [
    "k # number of neighbors"
   ]
  },
  {
   "cell_type": "code",
   "execution_count": 83,
   "id": "555fcebc",
   "metadata": {},
   "outputs": [
    {
     "data": {
      "text/plain": [
       "IntVector[1500, 1499, 1498, 1496, 966, 611, 612, 1497, 2231, 1009, 1012, 2232, 2233, 967, 2229, 2234, 1501, 1010, 3498, 1493, 1008, 1011, 3497, 3500, 1495, 1494, 1503, 1502, 968, 965, 2230, 577, 1007, 1013, 3499, 1491, 3496, 1401, 576, 578, 5107, 5105, 5109, 3501, 2235, 2227, 5108, 1492, 610, 1006, 1504, 2228, 2236, 575, 2237, 579, 5106, 5103, 5110, 1005, 1014, 5104, 1402, 3495, 3503, 3502, 2735, 7099, 5111, 7101, 2734, 1489, 574, 7100, 580, 7102, 5101, 5112, 1490, 1505, 2238, 5102, 2226, 247, 5100, 2736, 2733, 1004, 1015, 3493, 3504, 7103, 3494, 4029, 573, 243, 7104, 2732, 245, 4030, 244, 4028, 1846, 5113, 7105, 1488, 134, 2225, 485, 4031, 4027, 1003, 3491, 854, 7107, 2731, 3492, 4032, 4026, 572, 1334, 1845, 5566, 7108, 5567, 5565, 1335, 7106, 133, 135, 5568, 5564, 1487, 2224, 486, 1486, 4033, 2222, 4025, 1002, 1318, 2730, 3489, 855, 3490, 1980, 5569, 5563, 1979, 9288, 571, 1844, 1336, 7382, 7381, 7383, 3024, 4024, 5570, 5562, 7380, 7384, 3025, 609, 1981, 2729, 964, 487, 2223, 1001, 1000, 3488, 856, 7385, 7379, 5097, 3023, 2220, 570, 1982, 5098, 1337, 999, 5099, 2549, 5561, 1739, 4023, 9553, 5096, 9552, 9554, 7386, 7378, 2728, 1983, 9555, 9551, 1485, 608]"
      ]
     },
     "execution_count": 83,
     "metadata": {},
     "output_type": "execute_result"
    }
   ],
   "source": [
    "idx # index of points"
   ]
  },
  {
   "cell_type": "markdown",
   "id": "48420dbe",
   "metadata": {},
   "source": [
    "## Using search_radius_vector_3d"
   ]
  },
  {
   "cell_type": "code",
   "execution_count": 84,
   "id": "3045f736",
   "metadata": {},
   "outputs": [
    {
     "name": "stdout",
     "output_type": "stream",
     "text": [
      "Find its neighbors with distance less than 0.2, and paint them green.\n"
     ]
    }
   ],
   "source": [
    "print(\"Find its neighbors with distance less than 0.2, and paint them green.\")\n",
    "[k, idx, _] = pcd_tree.search_radius_vector_3d(pcd.points[1500], 0.2)\n",
    "np.asarray(pcd.colors)[idx[1:], :] = [0, 1, 0]"
   ]
  },
  {
   "cell_type": "code",
   "execution_count": 85,
   "id": "90a4a5eb",
   "metadata": {},
   "outputs": [
    {
     "name": "stdout",
     "output_type": "stream",
     "text": [
      "Visualize the point cloud.\n"
     ]
    }
   ],
   "source": [
    "print(\"Visualize the point cloud.\")\n",
    "o3d.visualization.draw_geometries([pcd])"
   ]
  },
  {
   "cell_type": "code",
   "execution_count": null,
   "id": "ba02253b",
   "metadata": {},
   "outputs": [],
   "source": []
  },
  {
   "cell_type": "code",
   "execution_count": null,
   "id": "868f208d",
   "metadata": {},
   "outputs": [],
   "source": []
  }
 ],
 "metadata": {
  "kernelspec": {
   "display_name": "Python 3 (ipykernel)",
   "language": "python",
   "name": "python3"
  },
  "language_info": {
   "codemirror_mode": {
    "name": "ipython",
    "version": 3
   },
   "file_extension": ".py",
   "mimetype": "text/x-python",
   "name": "python",
   "nbconvert_exporter": "python",
   "pygments_lexer": "ipython3",
   "version": "3.7.1"
  }
 },
 "nbformat": 4,
 "nbformat_minor": 5
}
