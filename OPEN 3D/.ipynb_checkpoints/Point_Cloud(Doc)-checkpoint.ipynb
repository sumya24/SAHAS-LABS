{
 "cells": [
  {
   "cell_type": "code",
   "execution_count": 1,
   "id": "7de2e186",
   "metadata": {},
   "outputs": [
    {
     "name": "stdout",
     "output_type": "stream",
     "text": [
      "Jupyter environment detected. Enabling Open3D WebVisualizer.\n",
      "[Open3D INFO] WebRTC GUI backend enabled.\n",
      "[Open3D INFO] WebRTCWindowSystem: HTTP handshake server disabled.\n",
      "0.17.0\n"
     ]
    }
   ],
   "source": [
    "import open3d as o3d\n",
    "print(o3d.__version__)"
   ]
  },
  {
   "cell_type": "markdown",
   "id": "4bd52cc1",
   "metadata": {},
   "source": [
    "# Visulization Method 1 ==> creating sphere"
   ]
  },
  {
   "cell_type": "code",
   "execution_count": 2,
   "id": "4c0e6201",
   "metadata": {},
   "outputs": [],
   "source": [
    "import open3d as o3d\n",
    "\n",
    "# Create a sphere mesh\n",
    "mesh = o3d.geometry.TriangleMesh.create_sphere()\n",
    "\n",
    "# Compute vertex normals\n",
    "mesh.compute_vertex_normals()\n",
    "\n",
    "# Visualize the mesh (this will open an external window)\n",
    "o3d.visualization.draw_geometries([mesh])"
   ]
  },
  {
   "cell_type": "code",
   "execution_count": 3,
   "id": "413d604a",
   "metadata": {},
   "outputs": [
    {
     "name": "stdout",
     "output_type": "stream",
     "text": [
      "Requirement already satisfied: pythreejs in c:\\programdata\\anaconda3\\envs\\open3denv\\lib\\site-packages (2.4.2)\n",
      "Requirement already satisfied: ipywidgets in c:\\programdata\\anaconda3\\envs\\open3denv\\lib\\site-packages (8.1.5)\n",
      "Requirement already satisfied: numpy in c:\\programdata\\anaconda3\\envs\\open3denv\\lib\\site-packages (from pythreejs) (1.19.2)\n",
      "Requirement already satisfied: ipydatawidgets>=1.1.1 in c:\\programdata\\anaconda3\\envs\\open3denv\\lib\\site-packages (from pythreejs) (4.3.5)\n",
      "Requirement already satisfied: traitlets in c:\\programdata\\anaconda3\\envs\\open3denv\\lib\\site-packages (from pythreejs) (5.7.1)\n",
      "Requirement already satisfied: comm>=0.1.3 in c:\\programdata\\anaconda3\\envs\\open3denv\\lib\\site-packages (from ipywidgets) (0.1.4)\n",
      "Requirement already satisfied: ipython>=6.1.0 in c:\\programdata\\anaconda3\\envs\\open3denv\\lib\\site-packages (from ipywidgets) (7.31.1)\n",
      "Requirement already satisfied: jupyterlab-widgets~=3.0.12 in c:\\programdata\\anaconda3\\envs\\open3denv\\lib\\site-packages (from ipywidgets) (3.0.13)\n",
      "Requirement already satisfied: widgetsnbextension~=4.0.12 in c:\\programdata\\anaconda3\\envs\\open3denv\\lib\\site-packages (from ipywidgets) (4.0.13)\n",
      "Requirement already satisfied: traittypes>=0.2.0 in c:\\programdata\\anaconda3\\envs\\open3denv\\lib\\site-packages (from ipydatawidgets>=1.1.1->pythreejs) (0.2.1)\n",
      "Requirement already satisfied: backcall in c:\\programdata\\anaconda3\\envs\\open3denv\\lib\\site-packages (from ipython>=6.1.0->ipywidgets) (0.2.0)\n",
      "Requirement already satisfied: decorator in c:\\programdata\\anaconda3\\envs\\open3denv\\lib\\site-packages (from ipython>=6.1.0->ipywidgets) (5.1.1)\n",
      "Requirement already satisfied: matplotlib-inline in c:\\programdata\\anaconda3\\envs\\open3denv\\lib\\site-packages (from ipython>=6.1.0->ipywidgets) (0.1.6)\n",
      "Requirement already satisfied: pygments in c:\\programdata\\anaconda3\\envs\\open3denv\\lib\\site-packages (from ipython>=6.1.0->ipywidgets) (2.11.2)\n",
      "Requirement already satisfied: jedi>=0.16 in c:\\programdata\\anaconda3\\envs\\open3denv\\lib\\site-packages (from ipython>=6.1.0->ipywidgets) (0.18.1)\n",
      "Requirement already satisfied: setuptools>=18.5 in c:\\programdata\\anaconda3\\envs\\open3denv\\lib\\site-packages (from ipython>=6.1.0->ipywidgets) (65.6.3)\n",
      "Requirement already satisfied: prompt-toolkit!=3.0.0,!=3.0.1,<3.1.0,>=2.0.0 in c:\\programdata\\anaconda3\\envs\\open3denv\\lib\\site-packages (from ipython>=6.1.0->ipywidgets) (3.0.20)\n",
      "Requirement already satisfied: pickleshare in c:\\programdata\\anaconda3\\envs\\open3denv\\lib\\site-packages (from ipython>=6.1.0->ipywidgets) (0.7.5)\n",
      "Requirement already satisfied: colorama in c:\\programdata\\anaconda3\\envs\\open3denv\\lib\\site-packages (from ipython>=6.1.0->ipywidgets) (0.4.4)\n",
      "Requirement already satisfied: parso<0.9.0,>=0.8.0 in c:\\programdata\\anaconda3\\envs\\open3denv\\lib\\site-packages (from jedi>=0.16->ipython>=6.1.0->ipywidgets) (0.8.3)\n",
      "Requirement already satisfied: wcwidth in c:\\programdata\\anaconda3\\envs\\open3denv\\lib\\site-packages (from prompt-toolkit!=3.0.0,!=3.0.1,<3.1.0,>=2.0.0->ipython>=6.1.0->ipywidgets) (0.2.5)\n",
      "Note: you may need to restart the kernel to use updated packages.\n"
     ]
    }
   ],
   "source": [
    "pip install pythreejs ipywidgets"
   ]
  },
  {
   "cell_type": "markdown",
   "id": "561e052f",
   "metadata": {},
   "source": [
    "# Visulization Method 2"
   ]
  },
  {
   "cell_type": "code",
   "execution_count": 4,
   "id": "b683c0c2",
   "metadata": {},
   "outputs": [],
   "source": [
    "import open3d as o3d\n",
    "from open3d.visualization import draw_geometries\n",
    "\n",
    "# Create a sphere mesh\n",
    "mesh = o3d.geometry.TriangleMesh.create_sphere()\n",
    "\n",
    "# Compute vertex normals\n",
    "mesh.compute_vertex_normals()\n",
    "\n",
    "# Visualize the mesh in a Jupyter notebook using pythreejs\n",
    "o3d.visualization.draw_geometries([mesh], window_name=\"Open3D in Jupyter\", width=1000, height=6000)"
   ]
  },
  {
   "cell_type": "markdown",
   "id": "e6732ac6",
   "metadata": {},
   "source": [
    "## Tensor"
   ]
  },
  {
   "cell_type": "code",
   "execution_count": 5,
   "id": "e9b68197",
   "metadata": {},
   "outputs": [],
   "source": [
    "import open3d.core as o3c\n",
    "import numpy as np"
   ]
  },
  {
   "cell_type": "code",
   "execution_count": 6,
   "id": "08eeb727",
   "metadata": {},
   "outputs": [
    {
     "name": "stdout",
     "output_type": "stream",
     "text": [
      "CUDA is not available.\n"
     ]
    }
   ],
   "source": [
    "import open3d.core as o3c\n",
    "\n",
    "# Check if CUDA is available\n",
    "if o3c.cuda.is_available():\n",
    "    print(\"CUDA is available!\")\n",
    "else:\n",
    "    print(\"CUDA is not available.\")"
   ]
  },
  {
   "cell_type": "code",
   "execution_count": 7,
   "id": "73a22cc6",
   "metadata": {},
   "outputs": [
    {
     "name": "stdout",
     "output_type": "stream",
     "text": [
      "Created from list:\n",
      "[0 1 2]\n",
      "Tensor[shape={3}, stride={1}, Int32, CPU:0, 0x217fb00cea0]\n",
      "\n",
      "Created from numpy array:\n",
      "[0 1 2]\n",
      "Tensor[shape={3}, stride={1}, Int32, CPU:0, 0x217fb00cd20]\n",
      "\n",
      "Default dtype and device:\n",
      "[0.0 1.0 2.0]\n",
      "Tensor[shape={3}, stride={1}, Float64, CPU:0, 0x217fb00cf80]\n",
      "\n",
      "Specified data type:\n",
      "[0.0 1.0 2.0]\n",
      "Tensor[shape={3}, stride={1}, Float64, CPU:0, 0x217fb00cf60]\n"
     ]
    },
    {
     "ename": "RuntimeError",
     "evalue": "[Open3D Error] (class std::shared_ptr<class open3d::core::MemoryManagerDevice> __cdecl open3d::core::MemoryManager::GetMemoryManagerDevice(const class open3d::core::Device &)) D:\\a\\Open3D\\Open3D\\cpp\\open3d\\core\\MemoryManager.cpp:123: Unsupported device \"CUDA:0\". Set BUILD_CUDA_MODULE=ON to compile for CUDA support and BUILD_SYCL_MODULE=ON to compile for SYCL support.\n",
     "output_type": "error",
     "traceback": [
      "\u001b[1;31m---------------------------------------------------------------------------\u001b[0m",
      "\u001b[1;31mRuntimeError\u001b[0m                              Traceback (most recent call last)",
      "\u001b[1;32m~\\AppData\\Local\\Temp\\ipykernel_8684\\2812321269.py\u001b[0m in \u001b[0;36m<module>\u001b[1;34m\u001b[0m\n\u001b[0;32m     16\u001b[0m \u001b[1;33m\u001b[0m\u001b[0m\n\u001b[0;32m     17\u001b[0m \u001b[1;31m# Specify device.\u001b[0m\u001b[1;33m\u001b[0m\u001b[1;33m\u001b[0m\u001b[1;33m\u001b[0m\u001b[0m\n\u001b[1;32m---> 18\u001b[1;33m \u001b[0ma\u001b[0m \u001b[1;33m=\u001b[0m \u001b[0mo3c\u001b[0m\u001b[1;33m.\u001b[0m\u001b[0mTensor\u001b[0m\u001b[1;33m(\u001b[0m\u001b[0mnp\u001b[0m\u001b[1;33m.\u001b[0m\u001b[0marray\u001b[0m\u001b[1;33m(\u001b[0m\u001b[1;33m[\u001b[0m\u001b[1;36m0\u001b[0m\u001b[1;33m,\u001b[0m \u001b[1;36m1\u001b[0m\u001b[1;33m,\u001b[0m \u001b[1;36m2\u001b[0m\u001b[1;33m]\u001b[0m\u001b[1;33m)\u001b[0m\u001b[1;33m,\u001b[0m \u001b[0mdevice\u001b[0m\u001b[1;33m=\u001b[0m\u001b[0mo3c\u001b[0m\u001b[1;33m.\u001b[0m\u001b[0mDevice\u001b[0m\u001b[1;33m(\u001b[0m\u001b[1;34m\"CUDA:0\"\u001b[0m\u001b[1;33m)\u001b[0m\u001b[1;33m)\u001b[0m\u001b[1;33m\u001b[0m\u001b[1;33m\u001b[0m\u001b[0m\n\u001b[0m\u001b[0;32m     19\u001b[0m \u001b[0mprint\u001b[0m\u001b[1;33m(\u001b[0m\u001b[1;34m\"\\nSpecified device:\\n{}\"\u001b[0m\u001b[1;33m.\u001b[0m\u001b[0mformat\u001b[0m\u001b[1;33m(\u001b[0m\u001b[0ma\u001b[0m\u001b[1;33m)\u001b[0m\u001b[1;33m)\u001b[0m\u001b[1;33m\u001b[0m\u001b[1;33m\u001b[0m\u001b[0m\n",
      "\u001b[1;31mRuntimeError\u001b[0m: [Open3D Error] (class std::shared_ptr<class open3d::core::MemoryManagerDevice> __cdecl open3d::core::MemoryManager::GetMemoryManagerDevice(const class open3d::core::Device &)) D:\\a\\Open3D\\Open3D\\cpp\\open3d\\core\\MemoryManager.cpp:123: Unsupported device \"CUDA:0\". Set BUILD_CUDA_MODULE=ON to compile for CUDA support and BUILD_SYCL_MODULE=ON to compile for SYCL support.\n"
     ]
    }
   ],
   "source": [
    "# Tensor from list.\n",
    "a = o3c.Tensor([0, 1, 2])\n",
    "print(\"Created from list:\\n{}\".format(a))\n",
    "\n",
    "# Tensor from Numpy.\n",
    "a = o3c.Tensor(np.array([0, 1, 2]))\n",
    "print(\"\\nCreated from numpy array:\\n{}\".format(a))\n",
    "\n",
    "# Dtype and inferred from list.\n",
    "a_float = o3c.Tensor([0.0, 1.0, 2.0])\n",
    "print(\"\\nDefault dtype and device:\\n{}\".format(a_float))\n",
    "\n",
    "# Specify dtype.\n",
    "a = o3c.Tensor(np.array([0, 1, 2]), dtype=o3c.Dtype.Float64)\n",
    "print(\"\\nSpecified data type:\\n{}\".format(a))\n",
    "\n",
    "# Specify device.\n",
    "a = o3c.Tensor(np.array([0, 1, 2]), device=o3c.Device(\"CUDA:0\")) ## Error bcz ==> CUDA is not installed\n",
    "print(\"\\nSpecified device:\\n{}\".format(a))"
   ]
  },
  {
   "cell_type": "markdown",
   "id": "13fc5aea",
   "metadata": {},
   "source": [
    "## Point Cloud"
   ]
  },
  {
   "cell_type": "markdown",
   "id": "21ca3ab6",
   "metadata": {},
   "source": [
    "## Visualize point cloud"
   ]
  },
  {
   "cell_type": "code",
   "execution_count": 3,
   "id": "5d35903f",
   "metadata": {},
   "outputs": [
    {
     "name": "stdout",
     "output_type": "stream",
     "text": [
      "Load a ply point cloud, print it, and render it\n",
      "PointCloud with 196133 points.\n",
      "[[0.65234375 0.84686458 2.37890625]\n",
      " [0.65234375 0.83984375 2.38430572]\n",
      " [0.66737998 0.83984375 2.37890625]\n",
      " ...\n",
      " [2.00839925 2.39453125 1.88671875]\n",
      " [2.00390625 2.39488506 1.88671875]\n",
      " [2.00390625 2.39453125 1.88793314]]\n"
     ]
    }
   ],
   "source": [
    "# Open3d in-built dataset \n",
    "\n",
    "import open3d as o3d\n",
    "import numpy as np\n",
    "\n",
    "print(\"Load a ply point cloud, print it, and render it\")\n",
    "\n",
    "# Load the sample PLY point cloud from Open3D's dataset\n",
    "ply_point_cloud = o3d.data.PLYPointCloud()\n",
    "pcd = o3d.io.read_point_cloud(ply_point_cloud.path)\n",
    "\n",
    "# Print the point cloud object and its points\n",
    "print(pcd)  # Print point cloud object\n",
    "print(np.asarray(pcd.points))  # Print points as a NumPy array\n",
    "\n",
    "# Visualize the point cloud in an interactive window\n",
    "o3d.visualization.draw_geometries([pcd],\n",
    "                                  zoom=0.3412,\n",
    "                                  front=[0.4257, -0.2125, -0.8795],\n",
    "                                  lookat=[2.6172, 2.0475, 1.532],\n",
    "                                  up=[-0.0694, -0.9768, 0.2024])\n"
   ]
  },
  {
   "cell_type": "code",
   "execution_count": null,
   "id": "8727f829",
   "metadata": {},
   "outputs": [],
   "source": [
    "# Local dataset\n",
    "\n",
    "import open3d as o3d\n",
    "import numpy as np\n",
    "\n",
    "# Load the point cloud from a PLY file\n",
    "pcd = o3d.io.read_point_cloud(\"C:/Users/sumit/Downloads/bunny/bunny/reconstruction/bun_zipper_res2.ply\")\n",
    "\n",
    "# Print the point cloud and its points as a NumPy array\n",
    "print(pcd)\n",
    "print(np.asarray(pcd.points))\n",
    "\n",
    "# Set better camera parameters to ensure the point cloud is visible\n",
    "vis = o3d.visualization.Visualizer()\n",
    "vis.create_window()\n",
    "vis.add_geometry(pcd)\n",
    "\n",
    "# Adjust camera parameters manually to ensure a good view of the point cloud\n",
    "view_control = vis.get_view_control()\n",
    "view_control.set_zoom(0.5)  # Zoom out a bit if the cloud is small\n",
    "view_control.set_front([1.0, -1.0, 0.0])  # Front direction\n",
    "view_control.set_lookat([0.0, 0.0, 0.0])  # Look at the center of the point cloud\n",
    "view_control.set_up([0.0, 0.0, 1.0])  # Up direction\n",
    "\n",
    "# Run the visualization loop\n",
    "vis.run()\n",
    "vis.destroy_window()"
   ]
  },
  {
   "cell_type": "markdown",
   "id": "7739d197",
   "metadata": {},
   "source": [
    "## Voxel downsampling"
   ]
  },
  {
   "cell_type": "markdown",
   "id": "bb4b27ef",
   "metadata": {},
   "source": [
    "## Down sampling for in-built dataset"
   ]
  },
  {
   "cell_type": "code",
   "execution_count": 4,
   "id": "141119d7",
   "metadata": {},
   "outputs": [
    {
     "name": "stdout",
     "output_type": "stream",
     "text": [
      "Downsample the point cloud with a voxel of 0.05\n"
     ]
    }
   ],
   "source": [
    "print(\"Downsample the point cloud with a voxel of 0.05\")\n",
    "downpcd = pcd.voxel_down_sample(voxel_size=0.05)\n",
    "o3d.visualization.draw_geometries([downpcd],\n",
    "                                  zoom=0.3412,\n",
    "                                  front=[0.4257, -0.2125, -0.8795],\n",
    "                                  lookat=[2.6172, 2.0475, 1.532],\n",
    "                                  up=[-0.0694, -0.9768, 0.2024])"
   ]
  },
  {
   "cell_type": "markdown",
   "id": "be7b1db2",
   "metadata": {},
   "source": [
    "## Down sampling for Local Dataset"
   ]
  },
  {
   "cell_type": "code",
   "execution_count": 2,
   "id": "0a5da1b0",
   "metadata": {},
   "outputs": [
    {
     "name": "stdout",
     "output_type": "stream",
     "text": [
      "PointCloud with 8171 points.\n",
      "[[-0.036872    0.127727    0.00440925]\n",
      " [-0.0453607   0.128854    0.00114541]\n",
      " [-0.0690069   0.151612    0.0366018 ]\n",
      " ...\n",
      " [-0.0643695   0.149877   -0.0298747 ]\n",
      " [-0.0528961   0.143026   -0.00045591]\n",
      " [-0.0318636   0.155275   -0.00893878]]\n",
      "Downsampled PointCloud\n",
      "PointCloud with 752 points.\n",
      "[[-0.07482782  0.1026933   0.03693172]\n",
      " [-0.06065983  0.04096267  0.0440672 ]\n",
      " [ 0.01593222  0.12479539  0.02880799]\n",
      " ...\n",
      " [-0.00363411  0.03478754  0.04172944]\n",
      " [-0.05440521  0.03449606  0.03823843]\n",
      " [-0.0600966   0.05817     0.0131277 ]]\n"
     ]
    }
   ],
   "source": [
    "import open3d as o3d\n",
    "import numpy as np\n",
    "\n",
    "# Load the point cloud from a PLY file\n",
    "pcd = o3d.io.read_point_cloud(\"C:/Users/sumit/Downloads/bunny/bunny/reconstruction/bun_zipper_res2.ply\")\n",
    "\n",
    "# Print the point cloud and its points as a NumPy array\n",
    "print(pcd)\n",
    "print(np.asarray(pcd.points))\n",
    "\n",
    "# Downsample the point cloud with a voxel size of 0.05 (you can change this value)\n",
    "downpcd = pcd.voxel_down_sample(voxel_size=0.01)\n",
    "\n",
    "# Print the downsampled point cloud and its points\n",
    "print(\"Downsampled PointCloud\")\n",
    "print(downpcd)\n",
    "print(np.asarray(downpcd.points))\n",
    "\n",
    "# Set better camera parameters to ensure the point cloud is visible\n",
    "vis = o3d.visualization.Visualizer()\n",
    "vis.create_window()\n",
    "vis.add_geometry(downpcd)  # Use the downsampled point cloud instead of the original one\n",
    "\n",
    "# Adjust camera parameters manually to ensure a good view of the point cloud\n",
    "view_control = vis.get_view_control()\n",
    "view_control.set_zoom(0.5)  # Zoom out a bit if the cloud is small\n",
    "view_control.set_front([1.0, -1.0, 0.0])  # Front direction\n",
    "view_control.set_lookat([0.0, 0.0, 0.0])  # Look at the center of the point cloud\n",
    "view_control.set_up([0.0, 0.0, 1.0])  # Up direction\n",
    "\n",
    "# Run the visualization loop\n",
    "vis.run()\n",
    "vis.destroy_window()\n"
   ]
  },
  {
   "cell_type": "markdown",
   "id": "df67d026",
   "metadata": {},
   "source": [
    "## Vertex Normal Estimation"
   ]
  },
  {
   "cell_type": "code",
   "execution_count": 62,
   "id": "371b2fb8",
   "metadata": {},
   "outputs": [
    {
     "name": "stdout",
     "output_type": "stream",
     "text": [
      "Recompute the normal of the downsampled point cloud\n"
     ]
    }
   ],
   "source": [
    "print(\"Recompute the normal of the downsampled point cloud\")\n",
    "downpcd.estimate_normals(\n",
    "    search_param=o3d.geometry.KDTreeSearchParamHybrid(radius=0.1, max_nn=30))\n",
    "o3d.visualization.draw_geometries([downpcd],\n",
    "                                  zoom=0.3412,\n",
    "                                  front=[0.4257, -0.2125, -0.8795],\n",
    "                                  lookat=[2.6172, 2.0475, 1.532],\n",
    "                                  up=[-0.0694, -0.9768, 0.2024],\n",
    "                                  point_show_normal=True)"
   ]
  },
  {
   "cell_type": "code",
   "execution_count": null,
   "id": "6af672d7",
   "metadata": {},
   "outputs": [],
   "source": [
    "# This one is also run as original \n",
    "\n",
    "print(\"Recompute the normal of the downsampled point cloud\")\n",
    "downpcd.estimate_normals(\n",
    "    search_param=o3d.geometry.KDTreeSearchParamHybrid(radius=0.1, max_nn=30))\n",
    "o3d.visualization.draw_geometries([downpcd],point_show_normal = True)"
   ]
  },
  {
   "cell_type": "code",
   "execution_count": null,
   "id": "8acf5b1a",
   "metadata": {},
   "outputs": [],
   "source": [
    "print(\"Print a normal vector of the 0th point\")\n",
    "print(downpcd.normals[0])"
   ]
  },
  {
   "cell_type": "code",
   "execution_count": null,
   "id": "a9dc569c",
   "metadata": {},
   "outputs": [],
   "source": [
    "print(\"Print the normal vectors of the first 10 points\")\n",
    "print(np.asarray(downpcd.normals)[:10, :])"
   ]
  },
  {
   "cell_type": "code",
   "execution_count": null,
   "id": "842b1d6e",
   "metadata": {},
   "outputs": [],
   "source": [
    "help(downpcd)"
   ]
  },
  {
   "cell_type": "code",
   "execution_count": null,
   "id": "b5185dcf",
   "metadata": {},
   "outputs": [],
   "source": [
    "o3d.visualization.draw_geometries([downpcd], point_show_normal=True)"
   ]
  },
  {
   "cell_type": "markdown",
   "id": "1bb07dbf",
   "metadata": {},
   "source": [
    "## Crop Point Cloud"
   ]
  },
  {
   "cell_type": "code",
   "execution_count": 22,
   "id": "2941e4da",
   "metadata": {},
   "outputs": [
    {
     "name": "stdout",
     "output_type": "stream",
     "text": [
      "Load a polygon volume and use it to crop the original point cloud\n"
     ]
    }
   ],
   "source": [
    "print(\"Load a polygon volume and use it to crop the original point cloud\")\n",
    "demo_crop_data = o3d.data.DemoCropPointCloud()\n",
    "pcd = o3d.io.read_point_cloud(demo_crop_data.point_cloud_path)\n",
    "vol = o3d.visualization.read_selection_polygon_volume(demo_crop_data.cropped_json_path)\n",
    "chair = vol.crop_point_cloud(pcd)\n",
    "o3d.visualization.draw_geometries([chair],\n",
    "                                  zoom=0.7,\n",
    "                                  front=[0.5439, -0.2333, -0.8060],\n",
    "                                  lookat=[2.4615, 2.1331, 1.338],\n",
    "                                  up=[-0.1781, -0.9708, 0.1608])"
   ]
  },
  {
   "cell_type": "markdown",
   "id": "6082a763",
   "metadata": {},
   "source": [
    "## Paint point cloud"
   ]
  },
  {
   "cell_type": "code",
   "execution_count": 12,
   "id": "3e5fcdeb",
   "metadata": {},
   "outputs": [
    {
     "name": "stdout",
     "output_type": "stream",
     "text": [
      "Paint chair\n"
     ]
    }
   ],
   "source": [
    "print(\"Paint chair\")\n",
    "chair.paint_uniform_color([1, 0.706, 0]) # Normalize the color Range between 0 to 1 (R,G,B)\n",
    "o3d.visualization.draw_geometries([chair],\n",
    "                                  zoom=0.7,\n",
    "                                  front=[0.5439, -0.2333, -0.8060],\n",
    "                                  lookat=[2.4615, 2.1331, 1.338],\n",
    "                                  up=[-0.1781, -0.9708, 0.1608])"
   ]
  },
  {
   "cell_type": "markdown",
   "id": "35a8671b",
   "metadata": {},
   "source": [
    "## Point cloud distance"
   ]
  },
  {
   "cell_type": "code",
   "execution_count": 13,
   "id": "4bafc193",
   "metadata": {},
   "outputs": [],
   "source": [
    "# Load data\n",
    "demo_crop_data = o3d.data.DemoCropPointCloud()\n",
    "pcd = o3d.io.read_point_cloud(demo_crop_data.point_cloud_path)\n",
    "vol = o3d.visualization.read_selection_polygon_volume(demo_crop_data.cropped_json_path)\n",
    "chair = vol.crop_point_cloud(pcd)\n",
    "\n",
    "dists = pcd.compute_point_cloud_distance(chair)\n",
    "dists = np.asarray(dists)\n",
    "ind = np.where(dists > 0.01)[0]\n",
    "pcd_without_chair = pcd.select_by_index(ind)\n",
    "o3d.visualization.draw_geometries([pcd_without_chair],\n",
    "                                  zoom=0.3412,\n",
    "                                  front=[0.4257, -0.2125, -0.8795],\n",
    "                                  lookat=[2.6172, 2.0475, 1.532],\n",
    "                                  up=[-0.0694, -0.9768, 0.2024])"
   ]
  },
  {
   "cell_type": "markdown",
   "id": "fd25af2c",
   "metadata": {},
   "source": [
    "## Caluculating The distance of cloud by manually applying ==> Chamfer Distance Formula.."
   ]
  },
  {
   "cell_type": "code",
   "execution_count": 40,
   "id": "8af6cb55",
   "metadata": {},
   "outputs": [
    {
     "name": "stdout",
     "output_type": "stream",
     "text": [
      "Chamfer distance:  0.2836171078537606\n"
     ]
    }
   ],
   "source": [
    "import open3d as o3d\n",
    "import numpy as np\n",
    "\n",
    "# Load data\n",
    "demo_crop_data = o3d.data.DemoCropPointCloud()\n",
    "pcd = o3d.io.read_point_cloud(demo_crop_data.point_cloud_path)\n",
    "vol = o3d.visualization.read_selection_polygon_volume(demo_crop_data.cropped_json_path)\n",
    "chair = vol.crop_point_cloud(pcd)\n",
    "\n",
    "# Compute point-to-point distances from source (pcd) to target (chair)\n",
    "dists_source_to_target = pcd.compute_point_cloud_distance(chair)\n",
    "dists_source_to_target = np.asarray(dists_source_to_target)\n",
    "\n",
    "# Compute point-to-point distances from target (chair) to source (pcd)\n",
    "dists_target_to_source = chair.compute_point_cloud_distance(pcd)\n",
    "dists_target_to_source = np.asarray(dists_target_to_source)\n",
    "\n",
    "# Compute Chamfer distance: average of distances in both directions\n",
    "chamfer_distance = (np.mean(dists_source_to_target) + np.mean(dists_target_to_source)) / 2\n",
    "\n",
    "# Optionally, select points from the source (pcd) that are more than 0.01 units away from the chair (target)\n",
    "ind = np.where(dists_source_to_target > 0.01)[0]\n",
    "pcd_without_chair = pcd.select_by_index(ind)\n",
    "\n",
    "# Visualize the result (point cloud with points away from the chair)\n",
    "o3d.visualization.draw_geometries([pcd_without_chair],\n",
    "                                  zoom=0.3412,\n",
    "                                  front=[0.4257, -0.2125, -0.8795],\n",
    "                                  lookat=[2.6172, 2.0475, 1.532],\n",
    "                                  up=[-0.0694, -0.9768, 0.2024])\n",
    "\n",
    "# Output Chamfer distance\n",
    "print(\"Chamfer distance: \", chamfer_distance)\n"
   ]
  },
  {
   "cell_type": "markdown",
   "id": "23097783",
   "metadata": {},
   "source": [
    "## Bounding volumes"
   ]
  },
  {
   "cell_type": "code",
   "execution_count": 43,
   "id": "44edddd2",
   "metadata": {},
   "outputs": [],
   "source": [
    "aabb = chair.get_axis_aligned_bounding_box()\n",
    "aabb.color = (1, 0, 0)\n",
    "obb = chair.get_oriented_bounding_box()\n",
    "obb.color = (0, 1, 0)\n",
    "o3d.visualization.draw_geometries([chair, aabb, obb],\n",
    "                                  zoom=0.7,\n",
    "                                  front=[0.5439, -0.2333, -0.8060],\n",
    "                                  lookat=[2.4615, 2.1331, 1.338],\n",
    "                                  up=[-0.1781, -0.9708, 0.1608])"
   ]
  },
  {
   "cell_type": "code",
   "execution_count": null,
   "id": "b1d70424",
   "metadata": {},
   "outputs": [],
   "source": []
  },
  {
   "cell_type": "markdown",
   "id": "2a81481d",
   "metadata": {},
   "source": [
    "## Convex hull"
   ]
  },
  {
   "cell_type": "code",
   "execution_count": 26,
   "id": "945548cb",
   "metadata": {},
   "outputs": [],
   "source": [
    "bunny = o3d.data.BunnyMesh()\n",
    "mesh = o3d.io.read_triangle_mesh(bunny.path)\n",
    "mesh.compute_vertex_normals()\n",
    "\n",
    "pcl = mesh.sample_points_poisson_disk(number_of_points=2000)\n",
    "hull, _ = pcl.compute_convex_hull()\n",
    "hull_ls = o3d.geometry.LineSet.create_from_triangle_mesh(hull)\n",
    "hull_ls.paint_uniform_color((1, 0, 0))\n",
    "o3d.visualization.draw_geometries([pcl, hull_ls])"
   ]
  },
  {
   "cell_type": "markdown",
   "id": "2c5c1df5",
   "metadata": {},
   "source": [
    "## DBSCAN clustering"
   ]
  },
  {
   "cell_type": "code",
   "execution_count": 29,
   "id": "76f2fe0f",
   "metadata": {},
   "outputs": [
    {
     "name": "stdout",
     "output_type": "stream",
     "text": [
      "Requirement already satisfied: matplotlib in c:\\programdata\\anaconda3\\envs\\open3denv\\lib\\site-packages (3.5.3)\n",
      "Requirement already satisfied: cycler>=0.10 in c:\\programdata\\anaconda3\\envs\\open3denv\\lib\\site-packages (from matplotlib) (0.11.0)\n",
      "Requirement already satisfied: pillow>=6.2.0 in c:\\programdata\\anaconda3\\envs\\open3denv\\lib\\site-packages (from matplotlib) (9.5.0)\n",
      "Requirement already satisfied: kiwisolver>=1.0.1 in c:\\programdata\\anaconda3\\envs\\open3denv\\lib\\site-packages (from matplotlib) (1.4.5)\n",
      "Requirement already satisfied: python-dateutil>=2.7 in c:\\programdata\\anaconda3\\envs\\open3denv\\lib\\site-packages (from matplotlib) (2.8.2)\n",
      "Requirement already satisfied: fonttools>=4.22.0 in c:\\programdata\\anaconda3\\envs\\open3denv\\lib\\site-packages (from matplotlib) (4.38.0)\n",
      "Requirement already satisfied: packaging>=20.0 in c:\\programdata\\anaconda3\\envs\\open3denv\\lib\\site-packages (from matplotlib) (21.3)\n",
      "Requirement already satisfied: pyparsing>=2.2.1 in c:\\programdata\\anaconda3\\envs\\open3denv\\lib\\site-packages (from matplotlib) (3.0.4)\n",
      "Requirement already satisfied: numpy>=1.17 in c:\\programdata\\anaconda3\\envs\\open3denv\\lib\\site-packages (from matplotlib) (1.19.2)\n",
      "Requirement already satisfied: typing-extensions in c:\\programdata\\anaconda3\\envs\\open3denv\\lib\\site-packages (from kiwisolver>=1.0.1->matplotlib) (4.1.1)\n",
      "Requirement already satisfied: six>=1.5 in c:\\programdata\\anaconda3\\envs\\open3denv\\lib\\site-packages (from python-dateutil>=2.7->matplotlib) (1.16.0)\n",
      "Note: you may need to restart the kernel to use updated packages.\n"
     ]
    }
   ],
   "source": [
    "pip install matplotlib"
   ]
  },
  {
   "cell_type": "code",
   "execution_count": 18,
   "id": "1ea3f936",
   "metadata": {},
   "outputs": [
    {
     "name": "stdout",
     "output_type": "stream",
     "text": [
      "[Open3D DEBUG] Precompute neighbors.\n",
      "[Open3D DEBUG] Done Precompute neighbors.\n",
      "[Open3D DEBUG] Compute Clusters\n",
      "[Open3D DEBUG] Done Compute Clusters: 10\n",
      "Unique cluster labels: [-1  0  1  2  3  4  5  6  7  8  9]\n",
      "point cloud has 10 clusters\n"
     ]
    }
   ],
   "source": [
    "import numpy as np\n",
    "import matplotlib.pyplot as plt\n",
    "ply_point_cloud = o3d.data.PLYPointCloud()\n",
    "pcd = o3d.io.read_point_cloud(ply_point_cloud.path)\n",
    "\n",
    "with o3d.utility.VerbosityContextManager(\n",
    "        o3d.utility.VerbosityLevel.Debug) as cm:\n",
    "    labels = np.array(\n",
    "        pcd.cluster_dbscan(eps=0.02, min_points=10, print_progress=True))\n",
    "print(\"Unique cluster labels:\", np.unique(labels))\n",
    "\n",
    "max_label = labels.max()\n",
    "print(f\"point cloud has {max_label + 1} clusters\")\n",
    "colors = plt.get_cmap(\"tab20\")(labels / (max_label if max_label > 0 else 1))\n",
    "colors[labels < 0] = 0\n",
    "pcd.colors = o3d.utility.Vector3dVector(colors[:, :3])\n",
    "o3d.visualization.draw_geometries([pcd],\n",
    "                                  zoom=0.455,\n",
    "                                  front=[-0.4999, -0.1659, -0.8499],\n",
    "                                  lookat=[2.1813, 2.0619, 2.0999],\n",
    "                                  up=[0.1204, -0.9852, 0.1215])"
   ]
  },
  {
   "cell_type": "markdown",
   "id": "94f78188",
   "metadata": {},
   "source": [
    "## Visulization using ==> plotly "
   ]
  },
  {
   "cell_type": "raw",
   "id": "884cb3d0",
   "metadata": {},
   "source": [
    "import numpy as np\n",
    "import open3d as o3d\n",
    "import matplotlib.pyplot as plt\n",
    "import plotly.graph_objects as go\n",
    "\n",
    "# Load the point cloud (PLY format)\n",
    "ply_point_cloud = o3d.data.PLYPointCloud()\n",
    "pcd = o3d.io.read_point_cloud(ply_point_cloud.path)\n",
    "\n",
    "# Run DBSCAN clustering on the point cloud\n",
    "with o3d.utility.VerbosityContextManager(o3d.utility.VerbosityLevel.Debug) as cm:\n",
    "    # eps = 0.02 is the distance threshold for neighborhood, min_points = 10 is the minimum points required to form a cluster\n",
    "    labels = np.array(pcd.cluster_dbscan(eps=0.02, min_points=10, print_progress=True))\n",
    "\n",
    "# Print the unique cluster labels\n",
    "print(\"Unique cluster labels:\", np.unique(labels))\n",
    "\n",
    "# Get the maximum label (for number of clusters)\n",
    "max_label = labels.max()\n",
    "print(f\"Point cloud has {max_label + 1} clusters\")\n",
    "\n",
    "# Assign a unique color to each cluster using a colormap\n",
    "colors = plt.get_cmap(\"tab20\")(labels / (max_label if max_label > 0 else 1))\n",
    "colors[labels < 0] = 0  # Points with label -1 are considered noise, so they are assigned black\n",
    "\n",
    "# Convert point cloud to numpy array for visualization\n",
    "points = np.asarray(pcd.points)\n",
    "\n",
    "# Create a Plotly figure\n",
    "fig = go.Figure()\n",
    "\n",
    "# Plot the clusters with different colors\n",
    "fig.add_trace(go.Scatter3d(x=points[:, 1], y=points[:, 0], z=points[:, 2],\n",
    "                           mode='markers', marker=dict(size=4, color=colors[:, 0:3]), name='Point Cloud'))\n",
    "\n",
    "# Update the layout for better visualization\n",
    "fig.update_layout(title='3D Point Cloud with DBSCAN Clusters',\n",
    "                  scene=dict(\n",
    "                      xaxis_title='X',\n",
    "                      yaxis_title='Y',\n",
    "                      zaxis_title='Z'),\n",
    "                  margin=dict(l=0, r=0, b=0, t=0))\n",
    "\n",
    "# Show the plot\n",
    "fig.show()\n"
   ]
  },
  {
   "cell_type": "markdown",
   "id": "284fe16b",
   "metadata": {},
   "source": [
    "## tab 20 colors"
   ]
  },
  {
   "cell_type": "code",
   "execution_count": 3,
   "id": "cf1e644f",
   "metadata": {},
   "outputs": [
    {
     "name": "stdout",
     "output_type": "stream",
     "text": [
      "[(0.12156862745098039, 0.4666666666666667, 0.7058823529411765, 1.0), (0.6823529411764706, 0.7803921568627451, 0.9098039215686274, 1.0), (1.0, 0.4980392156862745, 0.054901960784313725, 1.0), (1.0, 0.7333333333333333, 0.47058823529411764, 1.0), (0.17254901960784313, 0.6274509803921569, 0.17254901960784313, 1.0), (0.596078431372549, 0.8745098039215686, 0.5411764705882353, 1.0), (0.8392156862745098, 0.15294117647058825, 0.1568627450980392, 1.0), (1.0, 0.596078431372549, 0.5882352941176471, 1.0), (0.5803921568627451, 0.403921568627451, 0.7411764705882353, 1.0), (0.7725490196078432, 0.6901960784313725, 0.8352941176470589, 1.0), (0.5490196078431373, 0.33725490196078434, 0.29411764705882354, 1.0), (0.7686274509803922, 0.611764705882353, 0.5803921568627451, 1.0), (0.8901960784313725, 0.4666666666666667, 0.7607843137254902, 1.0), (0.9686274509803922, 0.7137254901960784, 0.8235294117647058, 1.0), (0.4980392156862745, 0.4980392156862745, 0.4980392156862745, 1.0), (0.7803921568627451, 0.7803921568627451, 0.7803921568627451, 1.0), (0.7372549019607844, 0.7411764705882353, 0.13333333333333333, 1.0), (0.8588235294117647, 0.8588235294117647, 0.5529411764705883, 1.0), (0.09019607843137255, 0.7450980392156863, 0.8117647058823529, 1.0), (0.6196078431372549, 0.8549019607843137, 0.8980392156862745, 1.0)]\n"
     ]
    },
    {
     "data": {
      "image/png": "[encoded data removed]",
      "text/plain": [
       "<Figure size 640x480 with 1 Axes>"
      ]
     },
     "metadata": {},
     "output_type": "display_data"
    }
   ],
   "source": [
    "import matplotlib.pyplot as plt\n",
    "\n",
    "# Accessing the 'tab20' colormap\n",
    "cmap = plt.get_cmap(\"tab20\")\n",
    "\n",
    "# Let's access the first 20 colors from the colormap (it's a list of colors)\n",
    "colors = [cmap(i) for i in range(20)]\n",
    "\n",
    "# Print or display the colors\n",
    "print(colors)  # This will print out the RGB values of the first 20 colors\n",
    "\n",
    "# Visualize the colors\n",
    "import numpy as np\n",
    "\n",
    "# Create an image (just a strip) to visualize the colors\n",
    "color_strip = np.linspace(0, 1, 20).reshape(1, 20)  # One row, 20 columns\n",
    "plt.imshow(color_strip, aspect=\"auto\", cmap=\"tab20\")\n",
    "plt.axis(\"off\")\n",
    "plt.show()"
   ]
  },
  {
   "cell_type": "markdown",
   "id": "4830c963",
   "metadata": {},
   "source": [
    "## Plane Segmentation"
   ]
  },
  {
   "cell_type": "code",
   "execution_count": 32,
   "id": "aa400da0",
   "metadata": {},
   "outputs": [
    {
     "name": "stdout",
     "output_type": "stream",
     "text": [
      "Plane equation: -0.04x + -0.09y + 0.99z + -1.10 = 0\n"
     ]
    }
   ],
   "source": [
    "pcd_point_cloud = o3d.data.PCDPointCloud()\n",
    "pcd = o3d.io.read_point_cloud(pcd_point_cloud.path)\n",
    "\n",
    "plane_model, inliers = pcd.segment_plane(distance_threshold=0.01,\n",
    "                                         ransac_n=3,\n",
    "                                         num_iterations=1000)\n",
    "[a, b, c, d] = plane_model\n",
    "print(f\"Plane equation: {a:.2f}x + {b:.2f}y + {c:.2f}z + {d:.2f} = 0\")\n",
    "\n",
    "inlier_cloud = pcd.select_by_index(inliers)\n",
    "inlier_cloud.paint_uniform_color([1.0, 0, 0])\n",
    "outlier_cloud = pcd.select_by_index(inliers, invert=True)\n",
    "o3d.visualization.draw_geometries([inlier_cloud, outlier_cloud],\n",
    "                                  zoom=0.8,\n",
    "                                  front=[-0.4999, -0.1659, -0.8499],\n",
    "                                  lookat=[2.1813, 2.0619, 2.0999],\n",
    "                                  up=[0.1204, -0.9852, 0.1215])"
   ]
  },
  {
   "cell_type": "markdown",
   "id": "ecace940",
   "metadata": {},
   "source": [
    "## Visulization using ==> plotly "
   ]
  },
  {
   "cell_type": "raw",
   "id": "58c856e7",
   "metadata": {},
   "source": [
    "# Code For Visulize the 3D points\n",
    "import numpy as np\n",
    "import open3d as o3d\n",
    "import plotly.graph_objects as go\n",
    "\n",
    "# Load the point cloud\n",
    "pcd_point_cloud = o3d.data.PCDPointCloud()\n",
    "pcd = o3d.io.read_point_cloud(pcd_point_cloud.path)\n",
    "\n",
    "# Segment the plane\n",
    "plane_model, inliers = pcd.segment_plane(distance_threshold=0.01,\n",
    "                                         ransac_n=3,\n",
    "                                         num_iterations=1000)\n",
    "\n",
    "# Unpack the plane model (a, b, c, d coefficients of the plane equation ax + by + cz + d = 0)\n",
    "[a, b, c, d] = plane_model\n",
    "print(f\"Plane equation: {a:.2f}x + {b:.2f}y + {c:.2f}z + {d:.2f} = 0\")\n",
    "\n",
    "# Extract inliers and outliers\n",
    "inlier_cloud = pcd.select_by_index(inliers)\n",
    "outlier_cloud = pcd.select_by_index(inliers, invert=True)\n",
    "\n",
    "# Convert Open3D point cloud to numpy arrays for visualization\n",
    "inlier_points = np.asarray(inlier_cloud.points)\n",
    "outlier_points = np.asarray(outlier_cloud.points)\n",
    "\n",
    "# Create a Plotly figure\n",
    "fig = go.Figure()\n",
    "\n",
    "# Plot the inliers (red)\n",
    "fig.add_trace(go.Scatter3d(x=inlier_points[:, 0], y=inlier_points[:, 1], z=inlier_points[:, 2],\n",
    "                           mode='markers', marker=dict(size=4, color='red'), name='Inliers'))\n",
    "\n",
    "# Plot the outliers (blue)\n",
    "fig.add_trace(go.Scatter3d(x=outlier_points[:, 0], y=outlier_points[:, 1], z=outlier_points[:, 2],\n",
    "                           mode='markers', marker=dict(size=4, color='blue'), name='Outliers'))\n",
    "\n",
    "# Generate points for the plane\n",
    "x = np.linspace(np.min(inlier_points[:, 0]), np.max(inlier_points[:, 0]), 10)\n",
    "y = np.linspace(np.min(inlier_points[:, 1]), np.max(inlier_points[:, 1]), 10)\n",
    "X, Y = np.meshgrid(x, y)\n",
    "\n",
    "# Calculate corresponding Z values from the plane equation (ax + by + cz + d = 0)\n",
    "Z = (-a * X - b * Y - d) / c\n",
    "\n",
    "# Plot the plane (in green)\n",
    "fig.add_trace(go.Surface(z=Z, x=X, y=Y, colorscale='Viridis', opacity=0.5, name='Plane'))\n",
    "\n",
    "# Update the layout for better visualization\n",
    "fig.update_layout(title='3D Plane Segmentation',\n",
    "                  scene=dict(\n",
    "                      xaxis_title='X',\n",
    "                      yaxis_title='Y',\n",
    "                      zaxis_title='Z'),\n",
    "                  legend=dict(x=0.8, y=0.9),\n",
    "                  margin=dict(l=0, r=0, b=0, t=0))\n",
    "\n",
    "# Show the plot\n",
    "fig.show()\n"
   ]
  },
  {
   "cell_type": "markdown",
   "id": "7b6ea0c3",
   "metadata": {},
   "source": [
    "## Planner Patch Detection"
   ]
  },
  {
   "cell_type": "code",
   "execution_count": 7,
   "id": "85d03080",
   "metadata": {},
   "outputs": [
    {
     "name": "stdout",
     "output_type": "stream",
     "text": [
      "Detected 10 patches\n"
     ]
    }
   ],
   "source": [
    "dataset = o3d.data.PCDPointCloud()\n",
    "pcd = o3d.io.read_point_cloud(dataset.path)\n",
    "assert (pcd.has_normals())\n",
    "\n",
    "# using all defaults\n",
    "oboxes = pcd.detect_planar_patches(\n",
    "    normal_variance_threshold_deg=60,\n",
    "    coplanarity_deg=75,\n",
    "    outlier_ratio=0.75,\n",
    "    min_plane_edge_length=0,\n",
    "    min_num_points=0,\n",
    "    search_param=o3d.geometry.KDTreeSearchParamKNN(knn=30))\n",
    "\n",
    "print(\"Detected {} patches\".format(len(oboxes)))\n",
    "\n",
    "geometries = []\n",
    "for obox in oboxes:\n",
    "    mesh = o3d.geometry.TriangleMesh.create_from_oriented_bounding_box(obox, scale=[1, 1, 0.0001])\n",
    "    mesh.paint_uniform_color(obox.color)\n",
    "    geometries.append(mesh)\n",
    "    geometries.append(obox)\n",
    "geometries.append(pcd)\n",
    "\n",
    "o3d.visualization.draw_geometries(geometries,\n",
    "                                  zoom=0.62,\n",
    "                                  front=[0.4361, -0.2632, -0.8605],\n",
    "                                  lookat=[2.4947, 1.7728, 1.5541],\n",
    "                                  up=[-0.1726, -0.9630, 0.2071])"
   ]
  },
  {
   "cell_type": "markdown",
   "id": "4f499dbf",
   "metadata": {},
   "source": [
    "## Hidden Point Removal"
   ]
  },
  {
   "cell_type": "code",
   "execution_count": 3,
   "id": "5805b147",
   "metadata": {},
   "outputs": [
    {
     "name": "stdout",
     "output_type": "stream",
     "text": [
      "Convert mesh to a point cloud and estimate dimensions\n"
     ]
    }
   ],
   "source": [
    "import numpy as np\n",
    "print(\"Convert mesh to a point cloud and estimate dimensions\")\n",
    "armadillo = o3d.data.ArmadilloMesh()\n",
    "mesh = o3d.io.read_triangle_mesh(armadillo.path)\n",
    "mesh.compute_vertex_normals()\n",
    "\n",
    "pcd = mesh.sample_points_poisson_disk(5000)\n",
    "diameter = np.linalg.norm( # calculate the eulidian distance\n",
    "    np.asarray(pcd.get_max_bound()) - np.asarray(pcd.get_min_bound()))\n",
    "o3d.visualization.draw_geometries([pcd])"
   ]
  },
  {
   "cell_type": "code",
   "execution_count": 4,
   "id": "49b5e443",
   "metadata": {},
   "outputs": [
    {
     "name": "stdout",
     "output_type": "stream",
     "text": [
      "Define parameters used for hidden_point_removal\n",
      "Get all points that are visible from given view point\n",
      "Visualize result\n"
     ]
    }
   ],
   "source": [
    "print(\"Define parameters used for hidden_point_removal\")\n",
    "camera = [0, 0, diameter]\n",
    "radius = diameter * 100\n",
    "\n",
    "print(\"Get all points that are visible from given view point\")\n",
    "_, pt_map = pcd.hidden_point_removal(camera, radius)\n",
    "\n",
    "print(\"Visualize result\")\n",
    "pcd = pcd.select_by_index(pt_map)\n",
    "o3d.visualization.draw_geometries([pcd])"
   ]
  },
  {
   "cell_type": "code",
   "execution_count": null,
   "id": "eaee9015",
   "metadata": {},
   "outputs": [],
   "source": []
  },
  {
   "cell_type": "code",
   "execution_count": null,
   "id": "bf337ab6",
   "metadata": {},
   "outputs": [],
   "source": []
  },
  {
   "cell_type": "code",
   "execution_count": null,
   "id": "89548867",
   "metadata": {},
   "outputs": [],
   "source": []
  },
  {
   "cell_type": "code",
   "execution_count": null,
   "id": "044b8e10",
   "metadata": {},
   "outputs": [],
   "source": []
  },
  {
   "cell_type": "code",
   "execution_count": null,
   "id": "000c4af8",
   "metadata": {},
   "outputs": [],
   "source": []
  },
  {
   "cell_type": "code",
   "execution_count": null,
   "id": "454cbc93",
   "metadata": {},
   "outputs": [],
   "source": []
  },
  {
   "cell_type": "code",
   "execution_count": null,
   "id": "b67dcae2",
   "metadata": {},
   "outputs": [],
   "source": []
  },
  {
   "cell_type": "code",
   "execution_count": null,
   "id": "4bbd1f9d",
   "metadata": {},
   "outputs": [],
   "source": []
  },
  {
   "cell_type": "code",
   "execution_count": null,
   "id": "fe612b67",
   "metadata": {},
   "outputs": [],
   "source": []
  },
  {
   "cell_type": "code",
   "execution_count": null,
   "id": "9b916bbf",
   "metadata": {},
   "outputs": [],
   "source": []
  },
  {
   "cell_type": "code",
   "execution_count": null,
   "id": "091de77e",
   "metadata": {},
   "outputs": [],
   "source": []
  },
  {
   "cell_type": "code",
   "execution_count": null,
   "id": "53d8e622",
   "metadata": {},
   "outputs": [],
   "source": []
  },
  {
   "cell_type": "code",
   "execution_count": 37,
   "id": "002f758f",
   "metadata": {},
   "outputs": [],
   "source": []
  },
  {
   "cell_type": "code",
   "execution_count": null,
   "id": "3f35fc8f",
   "metadata": {},
   "outputs": [],
   "source": []
  },
  {
   "cell_type": "code",
   "execution_count": null,
   "id": "9dfa1c28",
   "metadata": {},
   "outputs": [],
   "source": []
  },
  {
   "cell_type": "code",
   "execution_count": null,
   "id": "69c9f029",
   "metadata": {},
   "outputs": [],
   "source": []
  },
  {
   "cell_type": "code",
   "execution_count": null,
   "id": "3ac8802c",
   "metadata": {},
   "outputs": [],
   "source": []
  }
 ],
 "metadata": {
  "kernelspec": {
   "display_name": "Python 3 (ipykernel)",
   "language": "python",
   "name": "python3"
  },
  "language_info": {
   "codemirror_mode": {
    "name": "ipython",
    "version": 3
   },
   "file_extension": ".py",
   "mimetype": "text/x-python",
   "name": "python",
   "nbconvert_exporter": "python",
   "pygments_lexer": "ipython3",
   "version": "3.7.1"
  }
 },
 "nbformat": 4,
 "nbformat_minor": 5
}
