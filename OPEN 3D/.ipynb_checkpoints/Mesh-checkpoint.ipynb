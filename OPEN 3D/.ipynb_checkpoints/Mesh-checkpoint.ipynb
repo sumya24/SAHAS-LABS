{
 "cells": [
  {
   "cell_type": "code",
   "execution_count": 1,
   "id": "5a876400",
   "metadata": {},
   "outputs": [
    {
     "name": "stdout",
     "output_type": "stream",
     "text": [
      "Jupyter environment detected. Enabling Open3D WebVisualizer.\n",
      "[Open3D INFO] WebRTC GUI backend enabled.\n",
      "[Open3D INFO] WebRTCWindowSystem: HTTP handshake server disabled.\n",
      "0.17.0\n"
     ]
    }
   ],
   "source": [
    "import open3d as o3d\n",
    "print(o3d.__version__)"
   ]
  },
  {
   "cell_type": "markdown",
   "id": "89dfe0ff",
   "metadata": {},
   "source": [
    "## Creating a Empty Mesh"
   ]
  },
  {
   "cell_type": "code",
   "execution_count": 4,
   "id": "b4bedcf9",
   "metadata": {},
   "outputs": [
    {
     "data": {
      "text/plain": [
       "TriangleMesh with 0 points and 0 triangles."
      ]
     },
     "execution_count": 4,
     "metadata": {},
     "output_type": "execute_result"
    }
   ],
   "source": [
    "mesh = o3d.geometry.TriangleMesh()\n",
    "mesh"
   ]
  },
  {
   "cell_type": "markdown",
   "id": "cff47143",
   "metadata": {},
   "source": [
    "## Loading Mesh, Creating Instance(Knot_mesh), Printing Vertices and Trainges"
   ]
  },
  {
   "cell_type": "code",
   "execution_count": 12,
   "id": "4e8566ce",
   "metadata": {},
   "outputs": [
    {
     "name": "stdout",
     "output_type": "stream",
     "text": [
      "Testing mesh in Open3D...\n",
      "TriangleMesh with 1440 points and 2880 triangles.\n",
      "Vertices:\n",
      "[[  4.51268387  28.68865967 -76.55680847]\n",
      " [  7.63622284  35.52046967 -69.78063965]\n",
      " [  6.21986008  44.22465134 -64.82303619]\n",
      " ...\n",
      " [-22.12651634  31.28466606 -87.37570953]\n",
      " [-13.91188431  25.4865818  -86.25827026]\n",
      " [ -5.27768707  23.36245346 -81.43279266]]\n",
      "Triangles:\n",
      "[[   0   12   13]\n",
      " [   0   13    1]\n",
      " [   1   13   14]\n",
      " ...\n",
      " [1438   11 1439]\n",
      " [1439   11    0]\n",
      " [1439    0 1428]]\n"
     ]
    }
   ],
   "source": [
    "import numpy as np\n",
    "print(\"Testing mesh in Open3D...\")\n",
    "armadillo_mesh = o3d.data.ArmadilloMesh()\n",
    "mesh = o3d.io.read_triangle_mesh(armadillo_mesh.path)\n",
    "\n",
    "knot_mesh = o3d.data.KnotMesh() # creating a instance like previous did\n",
    "mesh = o3d.io.read_triangle_mesh(knot_mesh.path)\n",
    "print(mesh)\n",
    "print('Vertices:')\n",
    "print(np.asarray(mesh.vertices))\n",
    "print('Triangles:')\n",
    "print(np.asarray(mesh.triangles))"
   ]
  },
  {
   "cell_type": "markdown",
   "id": "d5638055",
   "metadata": {},
   "source": [
    "## Visulize a 3D mesh ==> Knot Mesh"
   ]
  },
  {
   "cell_type": "code",
   "execution_count": 34,
   "id": "9d701d9c",
   "metadata": {},
   "outputs": [
    {
     "name": "stdout",
     "output_type": "stream",
     "text": [
      "Try to render a mesh with normals (exist: False) and colors (exist: False)\n",
      "A mesh with no normals and no colors does not look good.\n"
     ]
    }
   ],
   "source": [
    "knot_mesh = o3d.data.KnotMesh() # creating a instance like previous did\n",
    "mesh = o3d.io.read_triangle_mesh(knot_mesh.path)\n",
    "\n",
    "print(\"Try to render a mesh with normals (exist: \" +\n",
    "      str(mesh.has_vertex_normals()) + \") and colors (exist: \" +\n",
    "      str(mesh.has_vertex_colors()) + \")\")\n",
    "o3d.visualization.draw_geometries([mesh])\n",
    "print(\"A mesh with no normals and no colors does not look good.\")"
   ]
  },
  {
   "cell_type": "markdown",
   "id": "df780872",
   "metadata": {},
   "source": [
    "## Visulize a 3D mesh ==> Armadillo Mesh"
   ]
  },
  {
   "cell_type": "code",
   "execution_count": 25,
   "id": "45b419d2",
   "metadata": {},
   "outputs": [
    {
     "name": "stdout",
     "output_type": "stream",
     "text": [
      "Testing mesh in Open3D...\n",
      "Try to render a mesh with normals (exist: False) and colors (exist: False)\n",
      "A mesh with no normals and no colors does not look good.\n"
     ]
    }
   ],
   "source": [
    "import numpy as np\n",
    "print(\"Testing mesh in Open3D...\")\n",
    "armadillo_mesh = o3d.data.ArmadilloMesh()\n",
    "mesh = o3d.io.read_triangle_mesh(armadillo_mesh.path)\n",
    "\n",
    "print(\"Try to render a mesh with normals (exist: \" +\n",
    "      str(mesh.has_vertex_normals()) + \") and colors (exist: \" +\n",
    "      str(mesh.has_vertex_colors()) + \")\")\n",
    "o3d.visualization.draw_geometries([mesh])\n",
    "print(\"A mesh with no normals and no colors does not look good.\")"
   ]
  },
  {
   "cell_type": "markdown",
   "id": "9abdaa3b",
   "metadata": {},
   "source": [
    "## Surface Normal Estimation"
   ]
  },
  {
   "cell_type": "code",
   "execution_count": 36,
   "id": "5cd4330e",
   "metadata": {},
   "outputs": [
    {
     "name": "stdout",
     "output_type": "stream",
     "text": [
      "Computing normal and rendering it.\n",
      "[[ 0.79164373 -0.53951444  0.28674793]\n",
      " [ 0.8319824  -0.53303008  0.15389681]\n",
      " [ 0.83488162 -0.09250101  0.54260136]\n",
      " ...\n",
      " [ 0.16269924 -0.76215917 -0.6266118 ]\n",
      " [ 0.52755226 -0.83707495 -0.14489352]\n",
      " [ 0.56778973 -0.76467734 -0.30476777]]\n",
      "[Open3D WARNING] [ViewControl] SetViewPoint() failed because window height and width are not set.\n"
     ]
    }
   ],
   "source": [
    "print(\"Computing normal and rendering it.\")\n",
    "mesh.compute_vertex_normals()\n",
    "print(np.asarray(mesh.triangle_normals))\n",
    "o3d.visualization.draw_geometries([mesh])"
   ]
  },
  {
   "cell_type": "markdown",
   "id": "fb64efda",
   "metadata": {},
   "source": [
    "## Conveting the Mesh to Point Cloud ( Mesh ==> PCD )"
   ]
  },
  {
   "cell_type": "code",
   "execution_count": 29,
   "id": "9157f0c4",
   "metadata": {},
   "outputs": [],
   "source": [
    "import open3d as o3d\n",
    "\n",
    "# Assuming you already have the mesh loaded\n",
    "# mesh = o3d.io.read_triangle_mesh(\"your_mesh.obj\")\n",
    "\n",
    "# Sample points uniformly from the mesh surface (e.g., 5000 points)\n",
    "point_cloud = mesh.sample_points_uniformly(number_of_points = 5000)\n",
    "\n",
    "# Visualize the point cloud\n",
    "o3d.visualization.draw_geometries([point_cloud])"
   ]
  },
  {
   "cell_type": "markdown",
   "id": "a73835a6",
   "metadata": {},
   "source": [
    "## For Poisson Disk Sampling of PCD"
   ]
  },
  {
   "cell_type": "code",
   "execution_count": 30,
   "id": "9d652f73",
   "metadata": {},
   "outputs": [],
   "source": [
    "point_cloud = mesh.sample_points_poisson_disk(number_of_points=5000)\n",
    "o3d.visualization.draw_geometries([point_cloud])"
   ]
  },
  {
   "cell_type": "markdown",
   "id": "960c74fb",
   "metadata": {},
   "source": [
    "## Crop mesh"
   ]
  },
  {
   "cell_type": "markdown",
   "id": "5b86f105",
   "metadata": {},
   "source": [
    "## Croping mesh without normals"
   ]
  },
  {
   "cell_type": "code",
   "execution_count": 62,
   "id": "ad847bbe",
   "metadata": {
    "scrolled": true
   },
   "outputs": [
    {
     "name": "stdout",
     "output_type": "stream",
     "text": [
      "We make a partial mesh of only the first half triangles.\n"
     ]
    }
   ],
   "source": [
    "import copy \n",
    "print(\"We make a partial mesh of only the first half triangles.\")\n",
    "mesh1 = copy.deepcopy(mesh)\n",
    "# bellow code is used ==> for the mesh\n",
    "mesh1.triangles = o3d.utility.Vector3iVector(\n",
    "    np.asarray(mesh1.triangles)[:len(mesh1.triangles) // 2, :])\n",
    "o3d.visualization.draw_geometries([mesh1])"
   ]
  },
  {
   "cell_type": "markdown",
   "id": "138ab83e",
   "metadata": {},
   "source": [
    "## Croping mesh normals"
   ]
  },
  {
   "cell_type": "code",
   "execution_count": 63,
   "id": "4d9644fe",
   "metadata": {},
   "outputs": [
    {
     "name": "stdout",
     "output_type": "stream",
     "text": [
      "std::vector<Eigen::Vector3i> with 1440 elements.\n",
      "Use numpy.asarray() to access data.\n"
     ]
    }
   ],
   "source": [
    "# bellow code is used => for the normal mesh (if we direct execute this then it is ohk)\n",
    "mesh1.triangle_normals = o3d.utility.Vector3dVector(\n",
    "    np.asarray(mesh1.triangle_normals)[:len(mesh1.triangle_normals) // 2, :])\n",
    "print(mesh1.triangles)\n",
    "o3d.visualization.draw_geometries([mesh1])"
   ]
  },
  {
   "cell_type": "markdown",
   "id": "7e2278d0",
   "metadata": {},
   "source": [
    "## Paint mesh"
   ]
  },
  {
   "cell_type": "code",
   "execution_count": 64,
   "id": "21523f6f",
   "metadata": {},
   "outputs": [
    {
     "name": "stdout",
     "output_type": "stream",
     "text": [
      "Painting the mesh\n"
     ]
    }
   ],
   "source": [
    "print(\"Painting the mesh\")\n",
    "mesh1.paint_uniform_color([1, 0.706, 0]) ## (R,G,B) ==> adjust the colors \n",
    "o3d.visualization.draw_geometries([mesh1])"
   ]
  },
  {
   "cell_type": "markdown",
   "id": "d8f69c45",
   "metadata": {},
   "source": [
    "## Mesh Properties ==> Manullay Fn is made for o3dtut "
   ]
  },
  {
   "cell_type": "code",
   "execution_count": 3,
   "id": "ed94b980",
   "metadata": {
    "scrolled": true
   },
   "outputs": [
    {
     "name": "stdout",
     "output_type": "stream",
     "text": [
      "KnotMesh\n",
      "  edge_manifold:          True\n",
      "  edge_manifold_boundary: True\n",
      "  vertex_manifold:        True\n",
      "  self_intersecting:      False\n",
      "  watertight:             True\n",
      "  orientable:             True\n",
      "Mobius\n",
      "  edge_manifold:          True\n",
      "  edge_manifold_boundary: False\n",
      "  vertex_manifold:        True\n",
      "  self_intersecting:      False\n",
      "  watertight:             False\n",
      "  orientable:             False\n",
      "non-manifold edge\n",
      "  edge_manifold:          True\n",
      "  edge_manifold_boundary: True\n",
      "  vertex_manifold:        True\n",
      "  self_intersecting:      False\n",
      "  watertight:             True\n",
      "  orientable:             True\n",
      "non-manifold vertex\n",
      "  edge_manifold:          False\n",
      "  edge_manifold_boundary: False\n",
      "  vertex_manifold:        True\n",
      "  self_intersecting:      False\n",
      "  watertight:             False\n",
      "  orientable:             True\n",
      "open box\n",
      "  edge_manifold:          True\n",
      "  edge_manifold_boundary: False\n",
      "  vertex_manifold:        True\n",
      "  self_intersecting:      False\n",
      "  watertight:             False\n",
      "  orientable:             True\n",
      "intersecting_boxes\n",
      "  edge_manifold:          True\n",
      "  edge_manifold_boundary: True\n",
      "  vertex_manifold:        True\n",
      "  self_intersecting:      True\n",
      "  watertight:             False\n",
      "  orientable:             True\n",
      "  # Visualizing self-intersecting triangles\n"
     ]
    }
   ],
   "source": [
    "import open3d as o3d\n",
    "import numpy as np\n",
    "\n",
    "# Helper function to visualize edges as LineSet\n",
    "def edges_to_lineset(mesh, edges, color):\n",
    "    \"\"\"Convert edges to a LineSet with a specified color.\"\"\"\n",
    "    line_set = o3d.geometry.LineSet()\n",
    "    line_set.points = mesh.vertices\n",
    "    line_set.lines = o3d.utility.Vector2iVector(edges)\n",
    "    line_set.paint_uniform_color(color)\n",
    "    return line_set\n",
    "\n",
    "# Function to generate a non-manifold edge mesh\n",
    "def get_non_manifold_edge_mesh():\n",
    "    \"\"\"Creates a mesh with non-manifold edges.\"\"\"\n",
    "    mesh = o3d.geometry.TriangleMesh()\n",
    "    vertices = np.array([\n",
    "        [0, 0, 0], [1, 0, 0], [0.5, 1, 0], [0.5, 0.5, 1]\n",
    "    ])\n",
    "    triangles = np.array([\n",
    "        [0, 1, 2], [0, 1, 3], [1, 2, 3], [0, 2, 3]\n",
    "    ])\n",
    "    mesh.vertices = o3d.utility.Vector3dVector(vertices)\n",
    "    mesh.triangles = o3d.utility.Vector3iVector(triangles)\n",
    "    return mesh\n",
    "\n",
    "# Function to generate a non-manifold vertex mesh\n",
    "def get_non_manifold_vertex_mesh():\n",
    "    \"\"\"Creates a mesh with non-manifold vertices.\"\"\"\n",
    "    mesh = o3d.geometry.TriangleMesh()\n",
    "    vertices = np.array([\n",
    "        [0, 0, 0], [1, 0, 0], [0.5, 1, 0], \n",
    "        [0.5, 0.5, 1], [0.5, 0.5, -1]\n",
    "    ])\n",
    "    triangles = np.array([\n",
    "        [0, 1, 2], [0, 1, 3], [1, 2, 3], [0, 2, 3], \n",
    "        [0, 1, 4], [1, 2, 4]\n",
    "    ])\n",
    "    mesh.vertices = o3d.utility.Vector3dVector(vertices)\n",
    "    mesh.triangles = o3d.utility.Vector3iVector(triangles)\n",
    "    return mesh\n",
    "\n",
    "# Function to generate an open box mesh\n",
    "def get_open_box_mesh():\n",
    "    \"\"\"Creates an open box mesh (one face removed).\"\"\"\n",
    "    mesh = o3d.geometry.TriangleMesh.create_box(width=1.0, height=1.0, depth=1.0)\n",
    "    mesh.remove_triangles_by_index([4, 5])  # Remove one face to create an opening\n",
    "    return mesh\n",
    "\n",
    "# Function to generate intersecting box meshes\n",
    "def get_intersecting_boxes_mesh():\n",
    "    \"\"\"Creates two intersecting boxes.\"\"\"\n",
    "    box1 = o3d.geometry.TriangleMesh.create_box(width=1.0, height=1.0, depth=1.0)\n",
    "    box2 = o3d.geometry.TriangleMesh.create_box(width=1.0, height=1.0, depth=1.0)\n",
    "    box2.translate((0.5, 0.5, 0.5))  # Move the second box to cause intersection\n",
    "    mesh = box1 + box2\n",
    "    return mesh\n",
    "\n",
    "# Function to check mesh properties\n",
    "def check_properties(name, mesh):\n",
    "    mesh.compute_vertex_normals()\n",
    "\n",
    "    edge_manifold = mesh.is_edge_manifold(allow_boundary_edges=True)\n",
    "    edge_manifold_boundary = mesh.is_edge_manifold(allow_boundary_edges=False)\n",
    "    vertex_manifold = mesh.is_vertex_manifold()\n",
    "    self_intersecting = mesh.is_self_intersecting()\n",
    "    watertight = mesh.is_watertight()\n",
    "    orientable = mesh.is_orientable()\n",
    "\n",
    "    print(name)\n",
    "    print(f\"  edge_manifold:          {edge_manifold}\")\n",
    "    print(f\"  edge_manifold_boundary: {edge_manifold_boundary}\")\n",
    "    print(f\"  vertex_manifold:        {vertex_manifold}\")\n",
    "    print(f\"  self_intersecting:      {self_intersecting}\")\n",
    "    print(f\"  watertight:             {watertight}\")\n",
    "    print(f\"  orientable:             {orientable}\")\n",
    "\n",
    "    geoms = [mesh]\n",
    "    \n",
    "    # Highlight non-manifold edges\n",
    "    if not edge_manifold:\n",
    "        edges = mesh.get_non_manifold_edges(allow_boundary_edges=True)\n",
    "        geoms.append(edges_to_lineset(mesh, edges, (1, 0, 0)))  # Red color\n",
    "\n",
    "    if not edge_manifold_boundary:\n",
    "        edges = mesh.get_non_manifold_edges(allow_boundary_edges=False)\n",
    "        geoms.append(edges_to_lineset(mesh, edges, (0, 1, 0)))  # Green color\n",
    "\n",
    "    # Highlight non-manifold vertices\n",
    "    if not vertex_manifold:\n",
    "        verts = np.asarray(mesh.get_non_manifold_vertices())\n",
    "        pcl = o3d.geometry.PointCloud(\n",
    "            points=o3d.utility.Vector3dVector(np.asarray(mesh.vertices)[verts])\n",
    "        )\n",
    "        pcl.paint_uniform_color((0, 0, 1))  # Blue color\n",
    "        geoms.append(pcl)\n",
    "\n",
    "    # Highlight self-intersecting triangles\n",
    "    if self_intersecting:\n",
    "        intersecting_triangles = np.asarray(mesh.get_self_intersecting_triangles())\n",
    "        if len(intersecting_triangles) > 0:  # Prevent IndexError\n",
    "            intersecting_triangles = intersecting_triangles[0:1]\n",
    "            intersecting_triangles = np.unique(intersecting_triangles)\n",
    "            print(\"  # Visualizing self-intersecting triangles\")\n",
    "            triangles = np.asarray(mesh.triangles)[intersecting_triangles]\n",
    "            edges = [\n",
    "                np.vstack((triangles[:, i], triangles[:, j]))\n",
    "                for i, j in [(0, 1), (1, 2), (2, 0)]\n",
    "            ]\n",
    "            edges = np.hstack(edges).T\n",
    "            edges = o3d.utility.Vector2iVector(edges)\n",
    "            geoms.append(edges_to_lineset(mesh, edges, (1, 0, 1)))  # Purple color\n",
    "\n",
    "    o3d.visualization.draw_geometries(geoms, mesh_show_back_face=True)"
   ]
  },
  {
   "cell_type": "code",
   "execution_count": null,
   "id": "a05f4cb1",
   "metadata": {},
   "outputs": [],
   "source": [
    "# Load Knot Mesh\n",
    "knot_mesh_data = o3d.data.KnotMesh()\n",
    "knot_mesh = o3d.io.read_triangle_mesh(knot_mesh_data.path)\n",
    "\n",
    "# Check properties of various meshes\n",
    "check_properties('KnotMesh', knot_mesh)\n",
    "check_properties('Mobius', o3d.geometry.TriangleMesh.create_mobius(twists=1))\n",
    "check_properties(\"non-manifold edge\", get_non_manifold_edge_mesh())\n",
    "check_properties(\"non-manifold vertex\", get_non_manifold_vertex_mesh())\n",
    "check_properties(\"open box\", get_open_box_mesh())\n",
    "check_properties(\"intersecting_boxes\", get_intersecting_boxes_mesh())"
   ]
  },
  {
   "cell_type": "markdown",
   "id": "70e4518a",
   "metadata": {},
   "source": [
    "## Removes non-manifold edges"
   ]
  },
  {
   "cell_type": "code",
   "execution_count": 31,
   "id": "304a8f13",
   "metadata": {},
   "outputs": [],
   "source": [
    "\n",
    "    mesh = o3d.geometry.TriangleMesh()\n",
    "    vertices = np.array([\n",
    "        [0, 0, 0], [1, 0, 0], [0.5, 1, 0], [0.5, 0.5, 1]\n",
    "    ])\n",
    "    triangles = np.array([\n",
    "        [0, 1, 2], [0, 1, 3], [1, 2, 3], [0, 2, 3]\n",
    "    ])\n",
    "    mesh.vertices = o3d.utility.Vector3dVector(vertices)\n",
    "    mesh.triangles = o3d.utility.Vector3iVector(triangles)\n",
    "mesh.compute_vertex_normals()\n",
    "mesh.remove_non_manifold_edges()  # Removes non-manifold edges\n",
    "o3d.visualization.draw_geometries([mesh])"
   ]
  },
  {
   "cell_type": "markdown",
   "id": "29329806",
   "metadata": {},
   "source": [
    "## Mesh Filters"
   ]
  },
  {
   "cell_type": "markdown",
   "id": "df9db874",
   "metadata": {},
   "source": [
    "# 1. Average Filter"
   ]
  },
  {
   "cell_type": "code",
   "execution_count": 5,
   "id": "20e1be83",
   "metadata": {},
   "outputs": [
    {
     "name": "stdout",
     "output_type": "stream",
     "text": [
      "create noisy mesh\n"
     ]
    }
   ],
   "source": [
    "## Creating ==> Noise Knot Mesh\n",
    "print('create noisy mesh')\n",
    "knot_mesh = o3d.data.KnotMesh()\n",
    "mesh_in = o3d.io.read_triangle_mesh(knot_mesh.path)\n",
    "vertices = np.asarray(mesh_in.vertices)\n",
    "noise = 5\n",
    "vertices += np.random.uniform(0, noise, size=vertices.shape)\n",
    "mesh_in.vertices = o3d.utility.Vector3dVector(vertices)\n",
    "mesh_in.compute_vertex_normals()\n",
    "o3d.visualization.draw_geometries([mesh_in])"
   ]
  },
  {
   "cell_type": "code",
   "execution_count": 75,
   "id": "9bc76a22",
   "metadata": {},
   "outputs": [
    {
     "name": "stdout",
     "output_type": "stream",
     "text": [
      "filter with average with 1 iteration\n"
     ]
    }
   ],
   "source": [
    "print('filter with average with 1 iteration')\n",
    "mesh_out = mesh_in.filter_smooth_simple(number_of_iterations=1)\n",
    "mesh_out.compute_vertex_normals()\n",
    "o3d.visualization.draw_geometries([mesh_out])"
   ]
  },
  {
   "cell_type": "code",
   "execution_count": 82,
   "id": "77772822",
   "metadata": {},
   "outputs": [
    {
     "name": "stdout",
     "output_type": "stream",
     "text": [
      "filter with average with 5 iterations\n"
     ]
    }
   ],
   "source": [
    "print('filter with average with 5 iterations')\n",
    "mesh_out = mesh_in.filter_smooth_simple(number_of_iterations=5)\n",
    "mesh_out.compute_vertex_normals()\n",
    "o3d.visualization.draw_geometries([mesh_out])"
   ]
  },
  {
   "cell_type": "markdown",
   "id": "7ededa65",
   "metadata": {},
   "source": [
    "## 2. Laplacian Filter"
   ]
  },
  {
   "cell_type": "code",
   "execution_count": 9,
   "id": "0f1e14ab",
   "metadata": {},
   "outputs": [
    {
     "name": "stdout",
     "output_type": "stream",
     "text": [
      "filter with Laplacian with 10 iterations\n"
     ]
    }
   ],
   "source": [
    "print('filter with Laplacian with 10 iterations')\n",
    "mesh_out = mesh_in.filter_smooth_laplacian(number_of_iterations=10)\n",
    "mesh_out.compute_vertex_normals()\n",
    "o3d.visualization.draw_geometries([mesh_out])"
   ]
  },
  {
   "cell_type": "code",
   "execution_count": 11,
   "id": "7ad88c01",
   "metadata": {},
   "outputs": [
    {
     "name": "stdout",
     "output_type": "stream",
     "text": [
      "filter with Laplacian with 50 iterations\n"
     ]
    }
   ],
   "source": [
    "print('filter with Laplacian with 50 iterations')\n",
    "mesh_out = mesh_in.filter_smooth_laplacian(number_of_iterations=50)\n",
    "mesh_out.compute_vertex_normals()\n",
    "o3d.visualization.draw_geometries([mesh_out])"
   ]
  },
  {
   "cell_type": "markdown",
   "id": "5eddc6d7",
   "metadata": {},
   "source": [
    "## 3. Taubin filter"
   ]
  },
  {
   "cell_type": "code",
   "execution_count": 13,
   "id": "89bbfa40",
   "metadata": {},
   "outputs": [
    {
     "name": "stdout",
     "output_type": "stream",
     "text": [
      "filter with Taubin with 10 iterations\n"
     ]
    }
   ],
   "source": [
    "# Apply Taubin smoothing with 10 iterations\n",
    "print('Filter with Taubin with 10 iterations')\n",
    "mesh_out = mesh_in.filter_smooth_taubin(number_of_iterations=10)\n",
    "mesh_out.compute_vertex_normals()  # Recompute normals for rendering\n",
    "o3d.visualization.draw_geometries([mesh_out])"
   ]
  },
  {
   "cell_type": "code",
   "execution_count": 15,
   "id": "f9bfa2bb",
   "metadata": {},
   "outputs": [
    {
     "name": "stdout",
     "output_type": "stream",
     "text": [
      "Filter with Taubin with 100 iterations\n"
     ]
    }
   ],
   "source": [
    "# Apply Taubin smoothing with 100 iterations\n",
    "print('Filter with Taubin with 100 iterations')\n",
    "mesh_out = mesh_in.filter_smooth_taubin(number_of_iterations=100)\n",
    "mesh_out.compute_vertex_normals()  # Recompute normals for rendering\n",
    "o3d.visualization.draw_geometries([mesh_out])"
   ]
  },
  {
   "cell_type": "markdown",
   "id": "9d230624",
   "metadata": {},
   "source": [
    "## Sampling"
   ]
  },
  {
   "cell_type": "markdown",
   "id": "3e8aeb8e",
   "metadata": {},
   "source": [
    "## 1. Uniform Sampling"
   ]
  },
  {
   "cell_type": "code",
   "execution_count": 4,
   "id": "3fbf1558",
   "metadata": {},
   "outputs": [],
   "source": [
    "# mesh ==> Sphere\n",
    "mesh = o3d.geometry.TriangleMesh.create_sphere()\n",
    "mesh.compute_vertex_normals()\n",
    "o3d.visualization.draw_geometries([mesh])\n",
    "pcd = mesh.sample_points_uniformly(number_of_points=500)\n",
    "o3d.visualization.draw_geometries([pcd])"
   ]
  },
  {
   "cell_type": "code",
   "execution_count": 5,
   "id": "6dff218c",
   "metadata": {},
   "outputs": [],
   "source": [
    "# Mesh ==> BunnyMesh\n",
    "bunny = o3d.data.BunnyMesh()\n",
    "mesh = o3d.io.read_triangle_mesh(bunny.path)\n",
    "mesh.compute_vertex_normals()\n",
    "\n",
    "o3d.visualization.draw_geometries([mesh])\n",
    "pcd = mesh.sample_points_uniformly(number_of_points=500)\n",
    "o3d.visualization.draw_geometries([pcd])"
   ]
  },
  {
   "cell_type": "markdown",
   "id": "bb77fca1",
   "metadata": {},
   "source": [
    "##  2. Poisson Disk Sampling "
   ]
  },
  {
   "cell_type": "markdown",
   "id": "18f49fb4",
   "metadata": {},
   "source": [
    "## Without pcl(without custom initalization)                [ init_factor*number_of_points ]"
   ]
  },
  {
   "cell_type": "code",
   "execution_count": 14,
   "id": "db30cb65",
   "metadata": {},
   "outputs": [],
   "source": [
    "mesh = o3d.geometry.TriangleMesh.create_sphere()\n",
    "pcd = mesh.sample_points_poisson_disk(number_of_points=500, init_factor=5)\n",
    "o3d.visualization.draw_geometries([pcd])"
   ]
  },
  {
   "cell_type": "code",
   "execution_count": 16,
   "id": "c5c84ec6",
   "metadata": {},
   "outputs": [
    {
     "name": "stdout",
     "output_type": "stream",
     "text": [
      "init_factor * number_if_points and it reduce upto 500 poisson distribution\n",
      "PointCloud with 500 points.\n"
     ]
    }
   ],
   "source": [
    "print('init_factor * number_if_points and it reduce upto 500 poisson distribution')\n",
    "print(pcd)"
   ]
  },
  {
   "cell_type": "markdown",
   "id": "89cca5c8",
   "metadata": {},
   "source": [
    "## with pcl(with custom initalization)"
   ]
  },
  {
   "cell_type": "code",
   "execution_count": null,
   "id": "e248f44d",
   "metadata": {},
   "outputs": [],
   "source": [
    "# Create a sphere mesh\n",
    "mesh = o3d.geometry.TriangleMesh.create_sphere()\n",
    "\n",
    "# Step 1: Generate an initial point cloud using uniform sampling\n",
    "initial_pcd = mesh.sample_points_uniformly(number_of_points=2500)\n",
    "\n",
    "# Step 2: Use this initial point cloud for Poisson Disk Sampling\n",
    "pcd_pcl = mesh.sample_points_poisson_disk(number_of_points=500, pcl=initial_pcd)\n",
    "\n",
    "# Visualize the sampled point cloud\n",
    "o3d.visualization.draw_geometries([pcd_pcl])"
   ]
  },
  {
   "cell_type": "code",
   "execution_count": 18,
   "id": "b6d163c0",
   "metadata": {},
   "outputs": [
    {
     "name": "stdout",
     "output_type": "stream",
     "text": [
      "PointCloud with 2500 points.\n",
      "PointCloud with 500 points.\n"
     ]
    }
   ],
   "source": [
    "print(initial_pcd)\n",
    "print(pcd_pcl)"
   ]
  },
  {
   "cell_type": "markdown",
   "id": "b4ef8e76",
   "metadata": {},
   "source": [
    "## Mesh subdivision"
   ]
  },
  {
   "cell_type": "markdown",
   "id": "9c9bae4c",
   "metadata": {},
   "source": [
    "## 1. Mid-Point Subdivision"
   ]
  },
  {
   "cell_type": "code",
   "execution_count": 28,
   "id": "92e8edd6",
   "metadata": {},
   "outputs": [
    {
     "name": "stdout",
     "output_type": "stream",
     "text": [
      "Original Mesh: 8 vertices, 12 triangles\n",
      "After Subdivision: 26 vertices, 48 triangles\n"
     ]
    }
   ],
   "source": [
    "# Create a simple box mesh\n",
    "mesh = o3d.geometry.TriangleMesh.create_box()\n",
    "mesh.compute_vertex_normals()\n",
    "print(f'Original Mesh: {len(mesh.vertices)} vertices, {len(mesh.triangles)} triangles')\n",
    "\n",
    "# Visualize before subdivision\n",
    "o3d.visualization.draw_geometries([mesh], mesh_show_wireframe=True)\n",
    "\n",
    "# Apply midpoint subdivision\n",
    "mesh = mesh.subdivide_midpoint(number_of_iterations=1)\n",
    "print(f'After Subdivision: {len(mesh.vertices)} vertices, {len(mesh.triangles)} triangles')\n",
    "\n",
    "# Visualize after subdiknot_mesh = o3d.data.KnotMesh()\n",
    "mesh = o3d.io.read_triangle_mesh(knot_mesh.path)\n",
    "mesh = mesh.subdivide_loop(number_of_iterations=1)vision\n",
    "o3d.visualization.draw_geometries([mesh], mesh_show_wireframe=True)"
   ]
  },
  {
   "cell_type": "code",
   "execution_count": 48,
   "id": "81823c33",
   "metadata": {},
   "outputs": [],
   "source": [
    "knot_mesh = o3d.data.KnotMesh()\n",
    "mesh = o3d.io.read_triangle_mesh(knot_mesh.path)\n",
    "\n",
    "mesh = o3d.io.read_triangle_mesh(knot_mesh.path)\n",
    "mesh.compute_vertex_normals()\n",
    "mesh = mesh.subdivide_loop(number_of_iterations=1)\n",
    "o3d.visualization.draw_geometries([mesh], mesh_show_wireframe=True)"
   ]
  },
  {
   "cell_type": "markdown",
   "id": "cfff90ad",
   "metadata": {},
   "source": [
    "## 2. Loop Subdivision"
   ]
  },
  {
   "cell_type": "markdown",
   "id": "28a6412c",
   "metadata": {},
   "source": [
    "## Sphere mesh using loop subdivision"
   ]
  },
  {
   "cell_type": "code",
   "execution_count": 50,
   "id": "7f969ed2",
   "metadata": {},
   "outputs": [
    {
     "name": "stdout",
     "output_type": "stream",
     "text": [
      "The mesh has 762 vertices and 1520 triangles\n",
      "After subdivision it has 12162 vertices and 24320 triangles\n"
     ]
    }
   ],
   "source": [
    "mesh = o3d.geometry.TriangleMesh.create_sphere()\n",
    "mesh.compute_vertex_normals()\n",
    "print(\n",
    "    f'The mesh has {len(mesh.vertices)} vertices and {len(mesh.triangles)} triangles'\n",
    ")\n",
    "o3d.visualization.draw_geometries([mesh], mesh_show_wireframe=True)\n",
    "mesh = mesh.subdivide_loop(number_of_iterations=2)\n",
    "print(\n",
    "    f'After subdivision it has {len(mesh.vertices)} vertices and {len(mesh.triangles)} triangles'\n",
    ")\n",
    "o3d.visualization.draw_geometries([mesh], mesh_show_wireframe=True)"
   ]
  },
  {
   "cell_type": "markdown",
   "id": "817b502e",
   "metadata": {},
   "source": [
    "## Knot Mesh using Loop Division"
   ]
  },
  {
   "cell_type": "code",
   "execution_count": 52,
   "id": "7996aff1",
   "metadata": {},
   "outputs": [
    {
     "name": "stdout",
     "output_type": "stream",
     "text": [
      "The mesh has 1440 vertices and 2880 triangles\n",
      "After subdivision it has 5760 vertices and 11520 triangles\n"
     ]
    }
   ],
   "source": [
    "knot_mesh = o3d.data.KnotMesh()\n",
    "mesh = o3d.io.read_triangle_mesh(knot_mesh.path)\n",
    "mesh.compute_vertex_normals()\n",
    "print(\n",
    "    f'The mesh has {len(mesh.vertices)} vertices and {len(mesh.triangles)} triangles'\n",
    ")\n",
    "o3d.visualization.draw_geometries([mesh], mesh_show_wireframe=True)\n",
    "mesh = mesh.subdivide_loop(number_of_iterations=1)\n",
    "print(\n",
    "    f'After subdivision it has {len(mesh.vertices)} vertices and {len(mesh.triangles)} triangles'\n",
    ")\n",
    "o3d.visualization.draw_geometries([mesh], mesh_show_wireframe=True)"
   ]
  },
  {
   "cell_type": "markdown",
   "id": "bf82a849",
   "metadata": {},
   "source": [
    "## Mesh Simplification"
   ]
  },
  {
   "cell_type": "raw",
   "id": "315052c5",
   "metadata": {},
   "source": [
    "Use Case\tRecommended N\tEffect\n",
    "High Detail (Medical, CAD)\tN = 64\tMinimal simplification\n",
    "Balanced (General 3D models)\tN = 32\tModerate reduction\n",
    "Aggressive (Gaming, Real-time)\tN = 16\tStrong reduction, faster processing"
   ]
  },
  {
   "cell_type": "markdown",
   "id": "a7ec4703",
   "metadata": {},
   "source": [
    "## Vertex clustering"
   ]
  },
  {
   "cell_type": "code",
   "execution_count": 3,
   "id": "fa18c268",
   "metadata": {},
   "outputs": [
    {
     "name": "stdout",
     "output_type": "stream",
     "text": [
      "Input mesh has 35947 vertices and 69451 triangles\n"
     ]
    }
   ],
   "source": [
    "bunny = o3d.data.BunnyMesh()\n",
    "mesh_in = o3d.io.read_triangle_mesh(bunny.path)\n",
    "mesh_in.compute_vertex_normals()\n",
    "\n",
    "print(\n",
    "    f'Input mesh has {len(mesh_in.vertices)} vertices and {len(mesh_in.triangles)} triangles'\n",
    ")\n",
    "o3d.visualization.draw_geometries([mesh_in])"
   ]
  },
  {
   "cell_type": "code",
   "execution_count": 4,
   "id": "7517aa53",
   "metadata": {},
   "outputs": [
    {
     "name": "stdout",
     "output_type": "stream",
     "text": [
      "voxel_size = 4.865594e-03\n",
      "Simplified mesh has 3222 vertices and 6454 triangles\n"
     ]
    }
   ],
   "source": [
    "voxel_size = max(mesh_in.get_max_bound() - mesh_in.get_min_bound()) / 32\n",
    "print(f'voxel_size = {voxel_size:e}')\n",
    "mesh_smp = mesh_in.simplify_vertex_clustering(\n",
    "    voxel_size=voxel_size,\n",
    "    contraction=o3d.geometry.SimplificationContraction.Average)\n",
    "print(\n",
    "    f'Simplified mesh has {len(mesh_smp.vertices)} vertices and {len(mesh_smp.triangles)} triangles'\n",
    ")\n",
    "o3d.visualization.draw_geometries([mesh_smp])"
   ]
  },
  {
   "cell_type": "raw",
   "id": "592a9b18",
   "metadata": {},
   "source": [
    "High Detail (Medical, CAD)\tN = 64\tMinimal simplification\n",
    "Balanced (General 3D models)\tN = 32\tModerate reduction\n",
    "Aggressive (Gaming, Real-time)\tN = 16 Strong reduction, faster processing"
   ]
  },
  {
   "cell_type": "code",
   "execution_count": 5,
   "id": "a194b44b",
   "metadata": {},
   "outputs": [
    {
     "name": "stdout",
     "output_type": "stream",
     "text": [
      "voxel_size = 9.731187e-03\n",
      "Simplified mesh has 845 vertices and 1724 triangles\n"
     ]
    }
   ],
   "source": [
    "voxel_size = max(mesh_in.get_max_bound() - mesh_in.get_min_bound()) / 16\n",
    "print(f'voxel_size = {voxel_size:e}')\n",
    "mesh_smp = mesh_in.simplify_vertex_clustering(\n",
    "    voxel_size=voxel_size,\n",
    "    contraction=o3d.geometry.SimplificationContraction.Average)\n",
    "print(\n",
    "    f'Simplified mesh has {len(mesh_smp.vertices)} vertices and {len(mesh_smp.triangles)} triangles'\n",
    ")\n",
    "o3d.visualization.draw_geometries([mesh_smp])"
   ]
  },
  {
   "cell_type": "markdown",
   "id": "7e48fb08",
   "metadata": {},
   "source": [
    "## Mesh decimation"
   ]
  },
  {
   "cell_type": "raw",
   "id": "cca772c0",
   "metadata": {},
   "source": [
    "High precision → target_number_of_triangles = 55,000\n",
    "Balanced → target_number_of_triangles = 35,000\n",
    "Aggressive → target_number_of_triangles = 10,000"
   ]
  },
  {
   "cell_type": "code",
   "execution_count": 17,
   "id": "aa387639",
   "metadata": {},
   "outputs": [
    {
     "name": "stdout",
     "output_type": "stream",
     "text": [
      "Simplified mesh has 4405 vertices and 6499 triangles\n"
     ]
    }
   ],
   "source": [
    "mesh_smp = mesh_in.simplify_quadric_decimation(target_number_of_triangles=6500)\n",
    "print(\n",
    "    f'Simplified mesh has {len(mesh_smp.vertices)} vertices and {len(mesh_smp.triangles)} triangles'\n",
    ")\n",
    "o3d.visualization.draw_geometries([mesh_smp])"
   ]
  },
  {
   "cell_type": "code",
   "execution_count": 32,
   "id": "ebcb7868",
   "metadata": {},
   "outputs": [
    {
     "name": "stdout",
     "output_type": "stream",
     "text": [
      "Simplified mesh has 1978 vertices and 1700 triangles\n"
     ]
    }
   ],
   "source": [
    "mesh_smp = mesh_in.simplify_quadric_decimation(target_number_of_triangles=1700)\n",
    "print(\n",
    "    f'Simplified mesh has {len(mesh_smp.vertices)} vertices and {len(mesh_smp.triangles)} triangles'\n",
    ")\n",
    "o3d.visualization.draw_geometries([mesh_smp])"
   ]
  },
  {
   "cell_type": "markdown",
   "id": "447986a5",
   "metadata": {},
   "source": [
    "## Connected components"
   ]
  },
  {
   "cell_type": "code",
   "execution_count": 33,
   "id": "2197c849",
   "metadata": {},
   "outputs": [
    {
     "name": "stdout",
     "output_type": "stream",
     "text": [
      "Generate data\n",
      "Show input mesh\n"
     ]
    }
   ],
   "source": [
    "## Adding a small samll cube in the mesh \n",
    "import numpy as np\n",
    "print(\"Generate data\")\n",
    "bunny = o3d.data.BunnyMesh()\n",
    "mesh = o3d.io.read_triangle_mesh(bunny.path)\n",
    "mesh.compute_vertex_normals()\n",
    "\n",
    "mesh = mesh.subdivide_midpoint(number_of_iterations=2)\n",
    "vert = np.asarray(mesh.vertices)\n",
    "min_vert, max_vert = vert.min(axis=0), vert.max(axis=0)\n",
    "for _ in range(30):\n",
    "    cube = o3d.geometry.TriangleMesh.create_box()\n",
    "    cube.scale(0.005, center=cube.get_center())\n",
    "    cube.translate(\n",
    "        (\n",
    "            np.random.uniform(min_vert[0], max_vert[0]),\n",
    "            np.random.uniform(min_vert[1], max_vert[1]),\n",
    "            np.random.uniform(min_vert[2], max_vert[2]),\n",
    "        ),\n",
    "        relative=False,\n",
    "    )\n",
    "    mesh += cube\n",
    "mesh.compute_vertex_normals()\n",
    "print(\"Show input mesh\")\n",
    "o3d.visualization.draw_geometries([mesh])"
   ]
  },
  {
   "cell_type": "code",
   "execution_count": 56,
   "id": "8c26d55d",
   "metadata": {},
   "outputs": [
    {
     "name": "stdout",
     "output_type": "stream",
     "text": [
      "Cluster connected triangles\n",
      "[Open3D DEBUG] [ClusterConnectedTriangles] Compute triangle adjacency\n",
      "[Open3D DEBUG] [ClusterConnectedTriangles] Done computing triangle adjacency\n",
      "[Open3D DEBUG] [ClusterConnectedTriangles] Done clustering, #clusters=31\n"
     ]
    }
   ],
   "source": [
    "## Cluster connected triangles\n",
    "print(\"Cluster connected triangles\")\n",
    "with o3d.utility.VerbosityContextManager(\n",
    "        o3d.utility.VerbosityLevel.Debug) as cm:\n",
    "    triangle_clusters, cluster_n_triangles, cluster_area = (\n",
    "        mesh.cluster_connected_triangles())\n",
    "triangle_clusters = np.asarray(triangle_clusters)\n",
    "cluster_n_triangles = np.asarray(cluster_n_triangles)\n",
    "cluster_area = np.asarray(cluster_area)"
   ]
  },
  {
   "cell_type": "code",
   "execution_count": 43,
   "id": "f3871cb1",
   "metadata": {},
   "outputs": [
    {
     "name": "stdout",
     "output_type": "stream",
     "text": [
      "An array where each triangle is assigned a cluster ID.(Index)\n",
      "[ 0  0  0 ... 30 30 30]\n",
      "An array that holds the number of triangles for each cluster.\n",
      "[1111216      12      12      12      12      12      12      12      12\n",
      "      12      12      12      12      12      12      12      12      12\n",
      "      12      12      12      12      12      12      12      12      12\n",
      "      12      12      12      12]\n",
      "An array containing the surface area of each cluster.\n",
      "[0.05712878 0.00015    0.00015    0.00015    0.00015    0.00015\n",
      " 0.00015    0.00015    0.00015    0.00015    0.00015    0.00015\n",
      " 0.00015    0.00015    0.00015    0.00015    0.00015    0.00015\n",
      " 0.00015    0.00015    0.00015    0.00015    0.00015    0.00015\n",
      " 0.00015    0.00015    0.00015    0.00015    0.00015    0.00015\n",
      " 0.00015   ]\n"
     ]
    }
   ],
   "source": [
    "print(\"An array where each triangle is assigned a cluster ID.(Index)\")\n",
    "print(triangle_clusters)\n",
    "print(\"An array that holds the number of triangles for each cluster.\")\n",
    "print(cluster_n_triangles)\n",
    "print(\"An array containing the surface area of each cluster.\")\n",
    "print(cluster_area)"
   ]
  },
  {
   "cell_type": "code",
   "execution_count": 63,
   "id": "f74bd8dd",
   "metadata": {},
   "outputs": [
    {
     "name": "stdout",
     "output_type": "stream",
     "text": [
      "Show mesh with small clusters removed\n",
      "[False False False ...  True  True  True]\n"
     ]
    }
   ],
   "source": [
    "import copy\n",
    "print(\"Show mesh with small clusters removed\") # ---> Remove the Small cube\n",
    "mesh_0 = copy.deepcopy(mesh)\n",
    "triangles_to_remove = cluster_n_triangles[triangle_clusters] < 100\n",
    "print(triangles_to_remove)\n",
    "mesh_0.remove_triangles_by_mask(triangles_to_remove)\n",
    "o3d.visualization.draw_geometries([mesh_0])"
   ]
  },
  {
   "cell_type": "code",
   "execution_count": 66,
   "id": "b10c08c7",
   "metadata": {},
   "outputs": [
    {
     "name": "stdout",
     "output_type": "stream",
     "text": [
      "Show mesh with small clusters removed\n",
      "[ True  True  True ... False False False]\n"
     ]
    }
   ],
   "source": [
    "import copy\n",
    "print(\"Show mesh with Large clusters removed\")    #  ==> Remove the large cluster i.e Bunny\n",
    "mesh_0 = copy.deepcopy(mesh)\n",
    "triangles_to_remove = cluster_n_triangles[triangle_clusters] > 100\n",
    "print(triangles_to_remove)\n",
    "mesh_0.remove_triangles_by_mask(triangles_to_remove)\n",
    "o3d.visualization.draw_geometries([mesh_0])"
   ]
  },
  {
   "cell_type": "code",
   "execution_count": 67,
   "id": "5fbcd250",
   "metadata": {},
   "outputs": [
    {
     "name": "stdout",
     "output_type": "stream",
     "text": [
      "Show largest cluster\n"
     ]
    }
   ],
   "source": [
    "print(\"Show largest cluster\")   ##  ==> >showing the lage cluster i.e bunny\n",
    "mesh_1 = copy.deepcopy(mesh)\n",
    "largest_cluster_idx = cluster_n_triangles.argmax()\n",
    "triangles_to_remove = triangle_clusters != largest_cluster_idx\n",
    "mesh_1.remove_triangles_by_mask(triangles_to_remove)\n",
    "o3d.visualization.draw_geometries([mesh_1])"
   ]
  },
  {
   "cell_type": "code",
   "execution_count": null,
   "id": "e0199463",
   "metadata": {},
   "outputs": [],
   "source": []
  },
  {
   "cell_type": "code",
   "execution_count": null,
   "id": "599b44a2",
   "metadata": {},
   "outputs": [],
   "source": []
  },
  {
   "cell_type": "code",
   "execution_count": null,
   "id": "2ea5ae32",
   "metadata": {},
   "outputs": [],
   "source": []
  },
  {
   "cell_type": "code",
   "execution_count": null,
   "id": "e63aa5f4",
   "metadata": {},
   "outputs": [],
   "source": []
  }
 ],
 "metadata": {
  "kernelspec": {
   "display_name": "Python 3 (ipykernel)",
   "language": "python",
   "name": "python3"
  },
  "language_info": {
   "codemirror_mode": {
    "name": "ipython",
    "version": 3
   },
   "file_extension": ".py",
   "mimetype": "text/x-python",
   "name": "python",
   "nbconvert_exporter": "python",
   "pygments_lexer": "ipython3",
   "version": "3.7.1"
  }
 },
 "nbformat": 4,
 "nbformat_minor": 5
}
